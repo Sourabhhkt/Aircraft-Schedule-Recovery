{
 "cells": [
  {
   "cell_type": "code",
   "execution_count": 239,
   "metadata": {},
   "outputs": [],
   "source": [
    "import pickle\n",
    "import pandas as pd\n",
    "import numpy as np\n",
    "from datetime import time"
   ]
  },
  {
   "cell_type": "code",
   "execution_count": 240,
   "metadata": {},
   "outputs": [
    {
     "name": "stdout",
     "output_type": "stream",
     "text": [
      "1:30\n"
     ]
    }
   ],
   "source": [
    "def hour_min(t):\n",
    "    #Takes time in minutes and returns hours and minutes as int format\n",
    "    h = int(t/60) \n",
    "    m = t%60\n",
    "    return str(h)+\":\"+str(m)\n",
    "print(hour_min(90))"
   ]
  },
  {
   "cell_type": "code",
   "execution_count": 241,
   "metadata": {},
   "outputs": [],
   "source": [
    "#make a class of flight related data\n",
    "class flight:\n",
    "    'A class of flights with attributes flight no, orig station, origin_time, dest station, dest_time, duration'\n",
    "    def __init__(self, num, aircraft, orig, dest, dep, arr):\n",
    "        self.num = num\n",
    "        self.aircraft = aircraft\n",
    "        self.orig = orig\n",
    "        self.dest = dest\n",
    "        self.dep = dep\n",
    "        self.arr = arr\n",
    "        self.dur = arr.hour*60+arr.minute - (dep.hour*60+dep.minute)\n",
    "        self.dep = self.dep.hour*60 + self.dep.minute\n",
    "        if self.dur<0:\n",
    "            self.dur+=1440\n",
    "            self.arr = (self.arr.hour+24)*60 + self.arr.minute\n",
    "        else:\n",
    "            self.arr = self.arr.hour*60 + self.arr.minute\n",
    "        \n",
    "    def display(self):\n",
    "        print(\"This is flight number-%d, aircraft=%s, Start-%s, End-%s, Dep-%s, arrival-%s, flight duration=%d minutes\"%(self.num,  \\\n",
    "        self.aircraft, self.orig, self.dest, hour_min(self.dep), hour_min(self.arr), self.dur))"
   ]
  },
  {
   "cell_type": "code",
   "execution_count": 242,
   "metadata": {},
   "outputs": [],
   "source": [
    "class maintenance:\n",
    "    '''A class of maintenance with the attributes '''\n",
    "    def __init__(self, ind, aircraft, airport, main_type, start, end):\n",
    "        self.ind = ind\n",
    "        self.aircraft = aircraft\n",
    "        self.airport = airport\n",
    "        self.main_type = main_type\n",
    "        self.start = start.hour*60+start.minute\n",
    "        self.end = end.hour*60+end.minute\n",
    "        \n",
    "        \n",
    "    def display(self):\n",
    "        print(\"This is maintenance number-%d, aircraft=%s airport-%s, type:%s, start-%d, end-%d\"%(self.ind, self.aircraft,\\\n",
    "        self.airport, self.main_type, self.start,  self.end))"
   ]
  },
  {
   "cell_type": "code",
   "execution_count": 243,
   "metadata": {},
   "outputs": [],
   "source": [
    "class NOTAM:\n",
    "    '''A class of maintenance with the attributes '''\n",
    "    def __init__(self, ind, airport, main_type, start, end):\n",
    "        self.ind = ind\n",
    "        self.airport = airport\n",
    "        self.start = start.hour*60+start.minute\n",
    "        self.end = end.hour*60+end.minute\n",
    "        \n",
    "        \n",
    "    def display(self):\n",
    "        print(\"This is NOTAM number-%d, airport-%s, start-%d, end-%d\"%(self.ind, self.airport,\\\n",
    "                                                self.start,  self.end))"
   ]
  },
  {
   "cell_type": "code",
   "execution_count": 244,
   "metadata": {},
   "outputs": [],
   "source": [
    "#make a class of aircraft related data\n",
    "class aircraft:\n",
    "    '''A class of aircrafts with the attributes aircraft number, aircraft type,\n",
    "    aircraft start available airport, start available time'''\n",
    "    def __init__(self, ind, model_type, start_airport, start_time):\n",
    "        self.ind = ind\n",
    "        self.model_type = model_type\n",
    "        self.start_time = start_time\n",
    "        self.start_airport = start_airport\n",
    "        \n",
    "    def display(self):\n",
    "        print(\"This is aicraft number-%d, model type-%s, start-%d, start station-%s\"%(self.ind, self.model_type,\\\n",
    "                                                self.start_time, self.start_airport))"
   ]
  },
  {
   "cell_type": "code",
   "execution_count": 245,
   "metadata": {},
   "outputs": [],
   "source": [
    "#Make a class of scheduled maintenance \n",
    "class penalty:\n",
    "    '''A class of penalty with the attributes'''\n",
    "    def __init__(self, ind, flight, cancel_cost, per_hour_delay_cost):\n",
    "        self.ind = ind\n",
    "        self.flight = flight\n",
    "        self.cancel_cost = cancel_cost\n",
    "        self.per_hour_delay_cost = per_hour_delay_cost\n",
    "        \n",
    "    def display(self):\n",
    "        print(\"This is penalty number-%d, flight-%s, cancel cost-%d, per hour delay cost-%d\"%(self.ind, self.flight,\\\n",
    "                                                self.cancel_cost, self.per_hour_delay_cost))"
   ]
  },
  {
   "cell_type": "code",
   "execution_count": 246,
   "metadata": {
    "scrolled": false
   },
   "outputs": [
    {
     "name": "stdout",
     "output_type": "stream",
     "text": [
      "166\n",
      "166\n",
      "This is flight number-3496, aircraft=VTICD, Start-LKO, End-DEL, Dep-8:50, arrival-10:20, flight duration=90 minutes\n",
      "Length of dict keys: 166\n"
     ]
    }
   ],
   "source": [
    "#Reading the data of flight and saving as a dictionary of key=flight no and value\n",
    "df_schedule = pd.read_excel(\"Input Files/Sample 8/Flight Schedule 4 Nov.xlsx\")\n",
    "print(len(df_schedule))\n",
    "df_schedule = df_schedule[['TABBID','TAIL', 'DEP', 'ARR', 'RTDIST', 'RTAIST' ]]\n",
    "#df_schedule = df_schedule[~df_schedule.RTD.str.contains(\"01-JUN\")]\n",
    "#df_schedule = df_schedule[~df_schedule.TAIL.str.contains(\"VTAIW\")]\n",
    "#df_schedule = df_schedule[~df_schedule.TAIL.str.contains(\"VTAIZ\")]\n",
    "flight_list = df_schedule.values.tolist()\n",
    "print(len(flight_list))\n",
    "for f in range(len(flight_list)):\n",
    "    flight_list[f][4] = time(hour=int(flight_list[f][4][12:14]), minute = int(flight_list[f][4][15:]))\n",
    "    flight_list[f][5] = time(hour=int(flight_list[f][5][12:14]), minute = int(flight_list[f][5][15:]))\n",
    "flight_obj_dict = {}\n",
    "tails = []\n",
    "for f in flight_list:\n",
    "    if f[0] in list(flight_obj_dict.keys()):\n",
    "        print(f[0])\n",
    "    flight_obj_dict[f[0]]=flight(*f)\n",
    "    #Update tail list\n",
    "    if f[1] not in tails:\n",
    "        tails.append(f[1])\n",
    "flight_obj_dict[flight_list[0][0]].display()\n",
    "print(\"Length of dict keys:\",len(list(flight_obj_dict.keys())))\n",
    "with open(\"Preprocessed Objects/Sample 1/flight_dict\", \"wb\") as file:\n",
    "    pickle.dump(flight_obj_dict, file)"
   ]
  },
  {
   "cell_type": "code",
   "execution_count": 247,
   "metadata": {},
   "outputs": [],
   "source": [
    "#flight_obj_dict[3638].display()"
   ]
  },
  {
   "cell_type": "code",
   "execution_count": 248,
   "metadata": {},
   "outputs": [],
   "source": [
    "#flight_obj_dict[3514].display()"
   ]
  },
  {
   "cell_type": "code",
   "execution_count": 249,
   "metadata": {},
   "outputs": [
    {
     "data": {
      "text/plain": [
       "166"
      ]
     },
     "execution_count": 249,
     "metadata": {},
     "output_type": "execute_result"
    }
   ],
   "source": [
    "len(list(flight_obj_dict.keys()))"
   ]
  },
  {
   "cell_type": "code",
   "execution_count": 250,
   "metadata": {},
   "outputs": [],
   "source": [
    "#Reading the data of maintenance and saving the objects in a dictionary\n",
    "df_maint = pd.read_excel(\"Input Files/Sample 8/MaintenaneSchedule2June.xlsx\")\n",
    "df_maint=df_maint.dropna()\n",
    "maint_list=df_maint.values.tolist()\n",
    "maint_obj_dict = {}\n",
    "for m in maint_list:\n",
    "    maint_obj_dict[m[1]]=maintenance(*m)\n",
    "#maint_obj_dict['VTEXJ'].display()\n",
    "with open(\"Preprocessed Objects/Sample 1/maint_dict\", \"wb\") as file:\n",
    "    pickle.dump(maint_obj_dict, file)"
   ]
  },
  {
   "cell_type": "code",
   "execution_count": 251,
   "metadata": {},
   "outputs": [],
   "source": [
    "#maint_obj_dict['VTEXJ'].start"
   ]
  },
  {
   "cell_type": "code",
   "execution_count": 252,
   "metadata": {},
   "outputs": [],
   "source": [
    "#Reading the data of NOTAMs and saving the objects in a dictionary\n",
    "df_NOTAM = pd.read_excel(\"Input Files/Sample 8/Notam_airportClosure.xlsx\")\n",
    "df_NOTAM = df_NOTAM.dropna()\n",
    "notam_list = df_NOTAM.values.tolist()\n",
    "notam_obj_dict = {}\n",
    "for n in notam_list:\n",
    "    notam_obj_dict[n[1]] = NOTAM(*n)\n",
    "with open(\"Preprocessed Objects/Sample 1/notam_dict\", \"wb\") as file:\n",
    "    pickle.dump(notam_obj_dict, file)"
   ]
  },
  {
   "cell_type": "code",
   "execution_count": 253,
   "metadata": {},
   "outputs": [],
   "source": [
    "#notam_obj_dict['LKO'].display()"
   ]
  },
  {
   "cell_type": "code",
   "execution_count": 254,
   "metadata": {},
   "outputs": [],
   "source": [
    "#Reading the data of aircrafts and the starting available time\n",
    "df_start = pd.read_excel(\"Input Files/Sample 8/StartAvailable.xlsx\")\n",
    "df_start = df_start.dropna()\n",
    "start_list = df_start.values.tolist()\n",
    "start_obj_dict = {}\n",
    "for s in start_list:\n",
    "    start_obj_dict[s[1]] = aircraft(*s)\n",
    "\n",
    "#First Flight of Aircraft c: Fc[c]\n",
    "Fc={}\n",
    "for c in tails:\n",
    "    Fsc=[]\n",
    "    for f in flight_obj_dict.keys():\n",
    "        if flight_obj_dict[f].aircraft == c:\n",
    "            Fsc.append(f)\n",
    "    Fc[c] = min(Fsc,key = lambda f:df_schedule.loc[df_schedule.TABBID==f, 'RTDIST'].values)\n",
    "ct = len(list(start_obj_dict.keys()))\n",
    "#Update dictionary of start time of every aircraft\n",
    "for c in tails:    \n",
    "    if c not in list(start_obj_dict.keys()):\n",
    "        start_obj_dict[c] = aircraft(ct, c, flight_obj_dict[Fc[c]].orig, flight_obj_dict[Fc[c]].dep)\n",
    "#start_obj_dict['VTEXJ'].display()\n",
    "with open(\"Preprocessed Objects/Sample 1/start_dict\", \"wb\") as file:\n",
    "    pickle.dump(start_obj_dict, file)"
   ]
  },
  {
   "cell_type": "code",
   "execution_count": 255,
   "metadata": {},
   "outputs": [],
   "source": [
    "#Reading the data of penalties\n",
    "df_pen = pd.read_excel(\"Input Files/Sample 8/Penalties.xlsx\")\n",
    "df_pen = df_pen.dropna()\n",
    "pen_list = df_pen.values.tolist()\n",
    "pen_obj_dict = {}\n",
    "for p in pen_list:\n",
    "    pen_obj_dict[p[0]] = penalty(*p)\n",
    "with open(\"Preprocessed Objects/Sample 1/penalty_dict\", \"wb\") as file:\n",
    "    pickle.dump(pen_obj_dict, file)"
   ]
  },
  {
   "cell_type": "code",
   "execution_count": 256,
   "metadata": {},
   "outputs": [
    {
     "name": "stdout",
     "output_type": "stream",
     "text": [
      "46\n"
     ]
    }
   ],
   "source": [
    "#-----Make a dictionary of starting flights for each airport\n",
    "airport=[]\n",
    "for i in flight_obj_dict.keys():\n",
    "    if flight_obj_dict[i].orig not in airport:\n",
    "        airport.append(flight_obj_dict[i].orig)\n",
    "    if flight_obj_dict[i].dest not in airport:\n",
    "        airport.append(flight_obj_dict[i].dest)\n",
    "startflights = {a:[] for a in airport}\n",
    "for f in flight_obj_dict.values():\n",
    "    if f.orig in list(startflights.keys()):\n",
    "        startflights[f.orig].append(f)\n",
    "    else:\n",
    "        startflights[f.orig] = [f]\n",
    "print(len(list(startflights.keys())))"
   ]
  },
  {
   "cell_type": "code",
   "execution_count": 257,
   "metadata": {},
   "outputs": [],
   "source": [
    "#make a class of LOF related data\n",
    "class lof:\n",
    "    'A class of route with attributes flights and available time after the end flight'\n",
    "    def __init__(self, flights, avail_time_end, port_end, cost, inf):\n",
    "        self.flights= flights\n",
    "        self.avail_time_end=avail_time_end\n",
    "        self.port_end=port_end\n",
    "        self.cost=cost\n",
    "        self.info = inf\n",
    "        \n",
    "    def extend(self, F_added):\n",
    "        L=[]            #defining a list of LOFs\n",
    "        for f in F_added:\n",
    "            l=lof(self.flights+[f[0]], f[1], f[2])\n",
    "            L.append(l)\n",
    "        return L\n",
    "    \n",
    "    def display(self):\n",
    "        print(self.info)\n",
    "        '''\n",
    "        print(\"LOF\")\n",
    "        for f in self.flights:\n",
    "            print(\" %d\"%f.num , end=\" \")\n",
    "        print(\"\\n avail time in hours= %f\"%(self.avail_time_end/60))\n",
    "        print(\"End port=\"+str(self.port_end))\n",
    "        print(\"Cost=$\"+str(self.cost))\n",
    "        '''\n",
    "        \n",
    "    def is_f(self, f):\n",
    "        for i in self.flights:\n",
    "            if i!='m' and f.num == i.num:\n",
    "                return 1\n",
    "        return 0\n",
    "    \n",
    "    def is_p(self, p):\n",
    "        if p==self.port_end:\n",
    "            return 1\n",
    "        else:\n",
    "            return 0"
   ]
  },
  {
   "cell_type": "code",
   "execution_count": 258,
   "metadata": {},
   "outputs": [
    {
     "name": "stdout",
     "output_type": "stream",
     "text": [
      "{'VTICD': [3496, 3497, 3498, 3499, 3500], 'VTICX': [3628, 3629], 'VTICF': [3746, 3747], 'VTICG': [3875, 3876, 3877], 'VTICH': [4008, 4009, 4010], 'VTICM': [4140, 4141, 4142, 4143], 'VTICN': [4275], 'VTICO': [4401, 4402], 'VTICB': [4524], 'VTICQ': [4643, 4644, 4645], 'VTXDX': [4819, 4820, 4821, 4822, 4823], 'VTXES': [4904, 4905, 4906, 4907], 'VTXEP': [5007, 5008, 5009], 'VTXEI': [5140, 5141, 5142, 5143, 5144], 'VTXED': [5248, 5249, 5250, 5251, 5252, 5253], 'VTXEX': [5343, 5344, 5345, 5346, 5347], 'VTXEF': [5465, 5466, 5467, 5468], 'VTXEG': [5589, 5590, 5591], 'VTXEL': [6200, 6201, 6202, 6203], 'VTXEM': [6305, 6306], 'VTXEN': [6415, 6416, 6417, 6418, 6419], 'VTXEO': [6531, 6532, 6533], 'VTXEQ': [6750, 6751, 6752], 'VTXER': [6865, 6866], 'VTXEA': [6992, 6993, 6994, 6995, 6996], 'VTXET': [7134, 7135, 7136, 7137, 7138], 'VTXEU': [7248, 7249, 7250, 7251], 'VTBBP': [8082], 'VTBBD': [8179, 8180, 8181, 8182], 'VTBBX': [8258, 8259], 'VTBBJ': [8346, 8347, 8348, 8349], 'VTBBK': [8429, 8430, 8431, 8432, 8433], 'VTBBL': [8531, 8532], 'VTBBM': [8612, 8613], 'VTBBQ': [8818, 8819, 8820, 8821], 'VTBBT': [8904, 8905, 8906], 'VTBBV': [9017], 'VTBBW': [9085, 9086], 'VTBBE': [9120, 9121, 9122, 9123, 9124], 'VTAIP': [10745, 10746], 'VTAII': [10838, 10839], 'VTAIF': [10925, 10926, 10927, 10928], 'VTAIG': [11005, 11006, 11007, 11008], 'VTAIH': [11102, 11103, 11104], 'VTAIN': [11180, 11181], 'VTAIO': [11210, 11211, 11212, 11213], 'VTAIB': [11350], 'VTAIR': [11519, 11520, 11521, 11522, 11523, 11524], 'VTAIA': [11618, 11619, 11620, 11621, 11622], 'VTAIV': [11762, 11764, 11765, 11766]}\n"
     ]
    }
   ],
   "source": [
    "\n",
    "#Dictionary of flights of every aircraft\n",
    "flights = {}\n",
    "for c in start_obj_dict.keys():\n",
    "    Lc=[]\n",
    "    for f in flight_obj_dict.keys():\n",
    "        if flight_obj_dict[f].aircraft == c:\n",
    "            Lc.append(f)\n",
    "    Lc.sort(key = lambda f:df_schedule.loc[df_schedule.TABBID==f, 'RTDIST'].values)\n",
    "    flights[c]=Lc\n",
    "print(flights)"
   ]
  },
  {
   "cell_type": "code",
   "execution_count": 259,
   "metadata": {},
   "outputs": [
    {
     "name": "stdout",
     "output_type": "stream",
     "text": [
      "{'VTICD': [<__main__.lof object at 0x000001BB2AF7FB70>], 'VTICX': [<__main__.lof object at 0x000001BB2AF7F908>], 'VTICF': [<__main__.lof object at 0x000001BB2B2BD550>], 'VTICG': [<__main__.lof object at 0x000001BB2AF7F588>], 'VTICH': [<__main__.lof object at 0x000001BB2AF7FE80>], 'VTICM': [<__main__.lof object at 0x000001BB2AE0B9B0>], 'VTICN': [<__main__.lof object at 0x000001BB2B2BD710>], 'VTICO': [<__main__.lof object at 0x000001BB2AE0BEB8>], 'VTICB': [<__main__.lof object at 0x000001BB2B2BD518>], 'VTICQ': [<__main__.lof object at 0x000001BB2AE0BC18>], 'VTXDX': [<__main__.lof object at 0x000001BB2AE0B7B8>], 'VTXES': [<__main__.lof object at 0x000001BB2AD4B320>], 'VTXEP': [<__main__.lof object at 0x000001BB2A8A3F98>], 'VTXEI': [<__main__.lof object at 0x000001BB2AE0B978>], 'VTXED': [<__main__.lof object at 0x000001BB2AD4B128>], 'VTXEX': [<__main__.lof object at 0x000001BB2AD4B198>], 'VTXEF': [<__main__.lof object at 0x000001BB2AD4B048>], 'VTXEG': [<__main__.lof object at 0x000001BB2AD4B1D0>], 'VTXEL': [<__main__.lof object at 0x000001BB2AD4B240>], 'VTXEM': [<__main__.lof object at 0x000001BB2AD4B208>], 'VTXEN': [<__main__.lof object at 0x000001BB2AD4B0F0>], 'VTXEO': [<__main__.lof object at 0x000001BB2AD4B400>], 'VTXEQ': [<__main__.lof object at 0x000001BB2AD4B2E8>], 'VTXER': [<__main__.lof object at 0x000001BB2AD4B160>], 'VTXEA': [<__main__.lof object at 0x000001BB2AD4B080>], 'VTXET': [<__main__.lof object at 0x000001BB2AD4B390>], 'VTXEU': [<__main__.lof object at 0x000001BB2AD4B2B0>], 'VTBBP': [<__main__.lof object at 0x000001BB2AD4B278>], 'VTBBD': [<__main__.lof object at 0x000001BB2AFBB278>], 'VTBBX': [<__main__.lof object at 0x000001BB2AFBBE48>], 'VTBBJ': [<__main__.lof object at 0x000001BB2AFBB748>], 'VTBBK': [<__main__.lof object at 0x000001BB2AD4B0B8>], 'VTBBL': [<__main__.lof object at 0x000001BB2AFBBC18>], 'VTBBM': [<__main__.lof object at 0x000001BB2AFBB6D8>], 'VTBBQ': [<__main__.lof object at 0x000001BB2AFBB160>], 'VTBBT': [<__main__.lof object at 0x000001BB2AD4B358>], 'VTBBV': [<__main__.lof object at 0x000001BB2AFBBBA8>], 'VTBBW': [<__main__.lof object at 0x000001BB2AFBB5C0>], 'VTBBE': [<__main__.lof object at 0x000001BB2AFBBE10>], 'VTAIP': [<__main__.lof object at 0x000001BB2AFBB908>], 'VTAII': [<__main__.lof object at 0x000001BB2AFBB320>], 'VTAIF': [<__main__.lof object at 0x000001BB2AFBB240>], 'VTAIG': [<__main__.lof object at 0x000001BB2AFBBEF0>], 'VTAIH': [<__main__.lof object at 0x000001BB2AFBB7B8>], 'VTAIN': [<__main__.lof object at 0x000001BB2AFBB630>], 'VTAIO': [<__main__.lof object at 0x000001BB2AFBB3C8>], 'VTAIB': [<__main__.lof object at 0x000001BB2AFBBCC0>], 'VTAIR': [<__main__.lof object at 0x000001BB2AFBB048>], 'VTAIA': [<__main__.lof object at 0x000001BB2AFBB5F8>], 'VTAIV': [<__main__.lof object at 0x000001BB2798A128>]}\n",
      "[]\n"
     ]
    }
   ],
   "source": [
    "#Run this cell to store initial line of flights for every aircraft and its cost\n",
    "Pos_lof_c = {}\n",
    "mark_c = [] # mark aircraft with recovery by delay not possible\n",
    "for c in start_obj_dict.keys():\n",
    "    #if c!='VTAYA':\n",
    "    first_avail_t = start_obj_dict[c].start_time + flight_obj_dict[flights[c][0]].dur + 30\n",
    "    if first_avail_t-flight_obj_dict[flights[c][0]].arr-30>0:\n",
    "        l = lof([flight_obj_dict[flights[c][0]]], first_avail_t, flight_obj_dict[flights[c][0]].dest, \\\n",
    "                20*(first_avail_t-flight_obj_dict[flights[c][0]].arr-30),\\\n",
    "               str(flights[c][0])+\" \"+ flight_obj_dict[flights[c][0]].orig+\" \"+flight_obj_dict[flights[c][0]].dest+ \" \"\\\n",
    "                +hour_min(first_avail_t - flight_obj_dict[flights[c][0]].dur - 30)+\" \"+\\\n",
    "                hour_min(first_avail_t-30))\n",
    "    else:\n",
    "        l = lof([flight_obj_dict[flights[c][0]]], flight_obj_dict[flights[c][0]].arr+30,\\\n",
    "                flight_obj_dict[flights[c][0]].dest, 0,\\\n",
    "               str(flights[c][0])+\" \"+flight_obj_dict[flights[c][0]].orig+\" \"+\\\n",
    "                flight_obj_dict[flights[c][0]].dest+ \" \"+ hour_min(flight_obj_dict[flights[c][0]].dep)+\" \"+\\\n",
    "                hour_min(flight_obj_dict[flights[c][0]].arr))\n",
    "    for f in flights[c][1:]:\n",
    "        if c in list(maint_obj_dict.keys()) and l.avail_time_end>maint_obj_dict[c].start and 'm' not in l.flights:\n",
    "            print(\"-#--#-#-#-#-#-Updating l-#-#-#-#-#\")\n",
    "            l = lof(l.flights+['m'], l.avail_time_end + maint_obj_dict[c].end-maint_obj_dict[c].start,l.port_end, l.cost,\\\n",
    "                       l.info+\"\\n Maintenance:\"+str(maint_obj_dict[c].end-maint_obj_dict[c].start)+\" min\")\n",
    "        max_time=l.avail_time_end + flight_obj_dict[f].dur + 30 if l.avail_time_end>flight_obj_dict[f].dep else flight_obj_dict[f].arr+30\n",
    "        if l.port_end in list(notam_obj_dict.keys()):\n",
    "            if max_time-(flight_obj_dict[f].dur + 30)>=notam_obj_dict[l.port_end].start and max_time-(flight_obj_dict[f].dur + 30)<=notam_obj_dict[l.port_end].end:\n",
    "                max_time = notam_obj_dict[l.port_end].end + flight_obj_dict[f].dur + 30\n",
    "        if flight_obj_dict[f].dest in list(notam_obj_dict.keys()):\n",
    "            if l.avail_time_end>flight_obj_dict[f].dep:\n",
    "                if l.avail_time_end+flight_obj_dict[f].dur>=notam_obj_dict[flight_obj_dict[f].dest].start and l.avail_time_end+flight_obj_dict[f].dur<=notam_obj_dict[flight_obj_dict[f].dest].end:\n",
    "                    t_av = notam_obj_dict[flight_obj_dict[f].dest].end + 30\n",
    "                    if t_av>max_time:\n",
    "                        max_time=t_av\n",
    "            else:\n",
    "\n",
    "                if flight_obj_dict[f].arr.hour>=notam_obj_dict[flight_obj_dict[f].dest].start and flight_obj_dict[f].arr.hour<=notam_obj_dict[flight_obj_dict[f].dest].end:\n",
    "                    t_av = notam_obj_dict[flight_obj_dict[f].dest].end + 30\n",
    "                    if t_av>max_time:\n",
    "                        max_time=t_av\n",
    "        if max_time-30>27*60:\n",
    "            mark_c.append(c)\n",
    "            break\n",
    "        l=lof(l.flights+[flight_obj_dict[f]], max_time, flight_obj_dict[f].dest,\\\n",
    "              l.cost + 20*(max_time-flight_obj_dict[f].arr-30),\\\n",
    "               l.info + \"\\n\"+str(f)+\" \"+flight_obj_dict[f].orig+\" \"+\\\n",
    "              flight_obj_dict[f].dest+\" \"+hour_min(max_time - flight_obj_dict[f].dur - 30)+\" \"+\\\n",
    "                hour_min(max_time-30))\n",
    "    if c not in mark_c:\n",
    "        Pos_lof_c[c]=[l]\n",
    "print(Pos_lof_c)\n",
    "print(mark_c)"
   ]
  },
  {
   "cell_type": "code",
   "execution_count": 260,
   "metadata": {},
   "outputs": [
    {
     "name": "stdout",
     "output_type": "stream",
     "text": [
      "3628 MAA HYD 13:55 14:55\n",
      "3629 HYD MAA 15:55 17:0\n"
     ]
    }
   ],
   "source": [
    "Pos_lof_c['VTICX'][0].display()"
   ]
  },
  {
   "cell_type": "code",
   "execution_count": 261,
   "metadata": {},
   "outputs": [
    {
     "data": {
      "text/plain": [
       "[]"
      ]
     },
     "execution_count": 261,
     "metadata": {},
     "output_type": "execute_result"
    }
   ],
   "source": [
    "mark_c"
   ]
  },
  {
   "cell_type": "code",
   "execution_count": 262,
   "metadata": {},
   "outputs": [],
   "source": [
    "#Pos_lof_c['VTAYA']  = [lof([], 720, 'MAA', 28800*4)]\n",
    "for c in mark_c:\n",
    "    Pos_lof_c[c] = [lof([], start_obj_dict[c].start_time, start_obj_dict[c].start_airport, 28800*4, \" \")]"
   ]
  },
  {
   "cell_type": "code",
   "execution_count": 263,
   "metadata": {},
   "outputs": [
    {
     "name": "stdout",
     "output_type": "stream",
     "text": [
      "VTICD = 9400 / VTICX = 0 / VTICF = 0 / VTICG = 0 / VTICH = 0 / VTICM = 0 / VTICN = 0 / VTICO = 0 / VTICB = 0 / VTICQ = 0 / VTXDX = 0 / VTXES = 0 / VTXEP = 0 / VTXEI = 0 / VTXED = 0 / VTXEX = 0 / VTXEF = 0 / VTXEG = 0 / VTXEL = 0 / VTXEM = 0 / VTXEN = 0 / VTXEO = 0 / VTXEQ = 0 / VTXER = 0 / VTXEA = 0 / VTXET = 0 / VTXEU = 0 / VTBBP = 0 / VTBBD = 0 / VTBBX = 0 / VTBBJ = 0 / VTBBK = 0 / VTBBL = 0 / VTBBM = 0 / VTBBQ = 0 / VTBBT = 300 / VTBBV = 0 / VTBBW = 0 / VTBBE = 0 / VTAIP = 0 / VTAII = 0 / VTAIF = 0 / VTAIG = 0 / VTAIH = 0 / VTAIN = 0 / VTAIO = 0 / VTAIB = 0 / VTAIR = 0 / VTAIA = 0 / VTAIV = 0 / "
     ]
    }
   ],
   "source": [
    "for c in start_obj_dict.keys():\n",
    "    print(c,\"=\",Pos_lof_c[c][0].cost, end=\" / \")"
   ]
  },
  {
   "cell_type": "code",
   "execution_count": 264,
   "metadata": {},
   "outputs": [
    {
     "name": "stdout",
     "output_type": "stream",
     "text": [
      "3496 LKO DEL 13:15 14:45\n",
      "3497 DEL GOI 15:15 17:20\n",
      "3498 GOI DEL 17:50 20:25\n",
      "3499 DEL ATQ 20:55 22:10\n",
      "3500 ATQ DEL 22:45 24:0\n"
     ]
    }
   ],
   "source": [
    "Pos_lof_c['VTICD'][0].display()\n",
    "with open(\"Preprocessed Objects/Sample 1/initial_lof_dict\", \"wb\") as file:\n",
    "    pickle.dump(Pos_lof_c, file)"
   ]
  },
  {
   "cell_type": "code",
   "execution_count": 82,
   "metadata": {},
   "outputs": [],
   "source": [
    "#Checks extensions of LOF conditions\n",
    "def check_conditions(f, airplane_avail_time, avail_port):\n",
    "    f1=f2=f3=f4=0\n",
    "    f2=1\n",
    "    #Condition 1 : Night curfew\n",
    "    if f.dur+airplane_avail_time<24*60:\n",
    "        f1=1\n",
    "   \n",
    "    if f1==1:\n",
    "        return 1\n",
    "    else:\n",
    "        return 0\n",
    "\n",
    "def create_next_l(l , f, notam_obj_dict, mode):\n",
    "    #Create next level lof by adding f in the lof l. Two modes of the function \n",
    "    if mode==1:\n",
    "        max_time = 0\n",
    "        if l.port_end in list(notam_obj_dict.keys()):\n",
    "            if l.avail_time_end>=notam_obj_dict[l.port_end].start and l.avail_time_end<=notam_obj_dict[l.port_end].end:\n",
    "                max_time = notam_obj_dict[l.port_end].end + f.dur + 30\n",
    "        if f.dest in list(notam_obj_dict.keys()):\n",
    "            if l.avail_time_end+f.dur>=notam_obj_dict[f.dest].start and l.avail_time_end+f.dur<=notam_obj_dict[f.dest].end:\n",
    "                t_av = notam_obj_dict[f.dest].end + 30\n",
    "                if t_av>max_time:\n",
    "                    max_time=t_av\n",
    "        if l.port_end not in list(notam_obj_dict.keys()) and f.dest not in list(notam_obj_dict.keys()):\n",
    "            max_time = l.avail_time_end+f.dur + 30 \n",
    "        new_l=lof(l.flights+[f], max_time, f.dest, l.cost + 20*(max_time-f.arr.hour*60-f.arr.minute-30))         \n",
    "    elif mode==2:\n",
    "        max_time = 0\n",
    "        if f.orig in list(notam_obj_dict.keys()):\n",
    "            if f.dep.hour*60+f.dep.minute>=notam_obj_dict[f.orig].start and f.dep.hour*60+f.dep.minute<=notam_obj_dict[f.orig].end:\n",
    "                max_time = notam_obj_dict[f.orig].end + f.dur + 30\n",
    "        if f.dest in list(notam_obj_dict.keys()):\n",
    "            if f.dep.hour*60+f.dep.minute+f.dur>=notam_obj_dict[f.dest].start and f.dep.hour*60+f.dep.minute+f.dur<=notam_obj_dict[f.dest].end:\n",
    "                t_av = notam_obj_dict[f.dest].end + 30\n",
    "                if t_av>max_time:\n",
    "                    max_time=t_av\n",
    "        if f.orig not in list(notam_obj_dict.keys()) and f.dest not in list(notam_obj_dict.keys()):\n",
    "            max_time = l.avail_time_end+f.dur + 30 \n",
    "        new_l=lof(l.flights+[f], max_time, f.dest, l.cost + 20*(max_time-f.arr.hour*60-f.arr.minute-30))      \n",
    "    if max_time>24*60:\n",
    "        return -1\n",
    "    return new_l"
   ]
  },
  {
   "cell_type": "code",
   "execution_count": 23,
   "metadata": {},
   "outputs": [],
   "source": [
    "#creates a start list of lofs for a particular aircraft given its start time and start airport+\n",
    "def add_s(startflights, airplane_avail_time, avail_port): \n",
    "    L=[]\n",
    "    for f in startflights[avail_port]:\n",
    "        if  airplane_avail_time.hour*60+airplane_avail_time.minute-(f.dep.hour*60+f.dep.minute)>=0:\n",
    "            if check_conditions(f, airplane_avail_time, avail_port):\n",
    "                L.append(lof([f], f.dur+airplane_avail_time.hour*60+airplane_avail_time.minute+30, f.dest, 20*(airplane_avail_time.hour*60+airplane_avail_time.minute-(f.dep.hour*60+f.dep.minute))))\n",
    "        else:\n",
    "            if check_conditions(f, airplane_avail_time, avail_port):\n",
    "                L.append(lof([f], f.dur+f.dep.hour*60+f.dep.minute+30, f.dest, 0))\n",
    "    return L"
   ]
  },
  {
   "cell_type": "code",
   "execution_count": 24,
   "metadata": {},
   "outputs": [
    {
     "ename": "KeyError",
     "evalue": "7766",
     "output_type": "error",
     "traceback": [
      "\u001b[1;31m---------------------------------------------------------------------------\u001b[0m",
      "\u001b[1;31mKeyError\u001b[0m                                  Traceback (most recent call last)",
      "\u001b[1;32m<ipython-input-24-42c5e5481400>\u001b[0m in \u001b[0;36m<module>\u001b[1;34m()\u001b[0m\n\u001b[1;32m----> 1\u001b[1;33m \u001b[0mL\u001b[0m\u001b[1;33m=\u001b[0m\u001b[0madd_s\u001b[0m\u001b[1;33m(\u001b[0m\u001b[0mstartflights\u001b[0m\u001b[1;33m,\u001b[0m \u001b[0mflight_obj_dict\u001b[0m\u001b[1;33m[\u001b[0m\u001b[1;36m7766\u001b[0m\u001b[1;33m]\u001b[0m\u001b[1;33m.\u001b[0m\u001b[0mdep\u001b[0m\u001b[1;33m,\u001b[0m \u001b[0mflight_obj_dict\u001b[0m\u001b[1;33m[\u001b[0m\u001b[1;36m7766\u001b[0m\u001b[1;33m]\u001b[0m\u001b[1;33m.\u001b[0m\u001b[0morig\u001b[0m\u001b[1;33m)\u001b[0m\u001b[1;33m\u001b[0m\u001b[0m\n\u001b[0m\u001b[0;32m      2\u001b[0m \u001b[0mprint\u001b[0m\u001b[1;33m(\u001b[0m\u001b[0mL\u001b[0m\u001b[1;33m)\u001b[0m\u001b[1;33m\u001b[0m\u001b[0m\n\u001b[0;32m      3\u001b[0m \u001b[0mL\u001b[0m\u001b[1;33m[\u001b[0m\u001b[1;36m0\u001b[0m\u001b[1;33m]\u001b[0m\u001b[1;33m.\u001b[0m\u001b[0mflights\u001b[0m\u001b[1;33m[\u001b[0m\u001b[1;36m0\u001b[0m\u001b[1;33m]\u001b[0m\u001b[1;33m.\u001b[0m\u001b[0mdisplay\u001b[0m\u001b[1;33m(\u001b[0m\u001b[1;33m)\u001b[0m\u001b[1;33m\u001b[0m\u001b[0m\n\u001b[0;32m      4\u001b[0m \u001b[0mL\u001b[0m\u001b[1;33m[\u001b[0m\u001b[1;36m2\u001b[0m\u001b[1;33m]\u001b[0m\u001b[1;33m.\u001b[0m\u001b[0mflights\u001b[0m\u001b[1;33m[\u001b[0m\u001b[1;36m0\u001b[0m\u001b[1;33m]\u001b[0m\u001b[1;33m.\u001b[0m\u001b[0mdisplay\u001b[0m\u001b[1;33m(\u001b[0m\u001b[1;33m)\u001b[0m\u001b[1;33m\u001b[0m\u001b[0m\n\u001b[0;32m      5\u001b[0m \u001b[0mL\u001b[0m\u001b[1;33m[\u001b[0m\u001b[1;36m3\u001b[0m\u001b[1;33m]\u001b[0m\u001b[1;33m.\u001b[0m\u001b[0mflights\u001b[0m\u001b[1;33m[\u001b[0m\u001b[1;36m0\u001b[0m\u001b[1;33m]\u001b[0m\u001b[1;33m.\u001b[0m\u001b[0mdisplay\u001b[0m\u001b[1;33m(\u001b[0m\u001b[1;33m)\u001b[0m\u001b[1;33m\u001b[0m\u001b[0m\n",
      "\u001b[1;31mKeyError\u001b[0m: 7766"
     ]
    }
   ],
   "source": [
    "L=add_s(startflights, flight_obj_dict[7766].dep, flight_obj_dict[7766].orig)\n",
    "print(L)\n",
    "L[0].flights[0].display()\n",
    "L[2].flights[0].display()\n",
    "L[3].flights[0].display()\n",
    "print(L[3].cost)"
   ]
  },
  {
   "cell_type": "code",
   "execution_count": null,
   "metadata": {},
   "outputs": [],
   "source": [
    "# grows next layer into the list of LOF\n",
    "def add_nex(L, startflights, notam_obj_dict):                \n",
    "    next_L=L[:]\n",
    "    flag=0\n",
    "    for l in L:\n",
    "        flag_l=0\n",
    "        for f in startflights[l.port_end]:\n",
    "            if f.dur+l.avail_time_end<23*60 and l.avail_time_end-(f.dep.hour*60+f.dep.minute)>=0 and l.is_f(f)==0:\n",
    "                if create_next_l(l , f, notam_obj_dict, 1)!=-1:\n",
    "                    flag_l=1\n",
    "                    flag=1\n",
    "                    new_l = create_next_l(l , f, notam_obj_dict, 1)\n",
    "                    next_L.append(new_l)\n",
    "            elif f.dur+f.dep.hour*60+f.dep.minute<23*60 and l.avail_time_end-(f.dep.hour*60+f.dep.minute)<=0 and l.is_f(f)==0:\n",
    "                if create_next_l(l , f, notam_obj_dict, 1)!=-1:\n",
    "                    flag_l=1\n",
    "                    flag=1\n",
    "                    new_l = create_next_l(l , f, notam_obj_dict, 2)\n",
    "                    next_L.append(new_l)\n",
    "        if flag_l==1:\n",
    "            next_L.remove(l)\n",
    "    next_L[-1].display()\n",
    "    L[:]=next_L\n",
    "    L[-1].display()\n",
    "    return flag"
   ]
  },
  {
   "cell_type": "code",
   "execution_count": null,
   "metadata": {},
   "outputs": [],
   "source": [
    "add_nex(L, startflights, notam_obj_dict)"
   ]
  },
  {
   "cell_type": "code",
   "execution_count": 45,
   "metadata": {},
   "outputs": [
    {
     "name": "stdout",
     "output_type": "stream",
     "text": [
      "03 hours 30 minutes\n"
     ]
    }
   ],
   "source": [
    "t1 = time(hour=3, minute=30)\n",
    "s1 = t1.strftime(\"%H hours %M minutes\")\n",
    "print(s1)"
   ]
  },
  {
   "cell_type": "code",
   "execution_count": null,
   "metadata": {},
   "outputs": [],
   "source": [
    "Pos_lof_c={i:[] for i in list(start_obj_dict.keys())}\n",
    "for i in Pos_lof_c.keys():\n",
    "    Pos_lof_c[i]=add_s(startflights, start_obj_dict[i].start_time, start_obj_dict[i].start_airport)\n",
    "    flag=1\n",
    "    while flag==1:\n",
    "        flag=add_nex(Pos_lof_c[i], startflights, notam_obj_dict)"
   ]
  },
  {
   "cell_type": "code",
   "execution_count": 88,
   "metadata": {},
   "outputs": [
    {
     "name": "stdout",
     "output_type": "stream",
     "text": [
      "This is aicraft number-2, model type-VTCIG, start-360, start station-BLR\n",
      "dict_keys(['LKO', 'VGA', 'BKK', 'FRA'])\n",
      "This is NOTAM number-2, airport-VGA, start-660, end-960\n"
     ]
    }
   ],
   "source": [
    "start_obj_dict['VTCIG'].display()\n",
    "print(notam_obj_dict.keys())\n",
    "notam_obj_dict['VGA'].display()"
   ]
  },
  {
   "cell_type": "code",
   "execution_count": 183,
   "metadata": {},
   "outputs": [
    {
     "data": {
      "text/plain": [
       "False"
      ]
     },
     "execution_count": 183,
     "metadata": {},
     "output_type": "execute_result"
    }
   ],
   "source": []
  },
  {
   "cell_type": "code",
   "execution_count": null,
   "metadata": {},
   "outputs": [],
   "source": []
  }
 ],
 "metadata": {
  "kernelspec": {
   "display_name": "Python 3",
   "language": "python",
   "name": "python3"
  },
  "language_info": {
   "codemirror_mode": {
    "name": "ipython",
    "version": 3
   },
   "file_extension": ".py",
   "mimetype": "text/x-python",
   "name": "python",
   "nbconvert_exporter": "python",
   "pygments_lexer": "ipython3",
   "version": "3.6.5"
  }
 },
 "nbformat": 4,
 "nbformat_minor": 2
}
