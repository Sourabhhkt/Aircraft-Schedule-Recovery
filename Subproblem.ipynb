{
 "cells": [
  {
   "cell_type": "code",
   "execution_count": 16,
   "metadata": {},
   "outputs": [
    {
     "name": "stdout",
     "output_type": "stream",
     "text": [
      "1:30\n",
      "157\n",
      "157\n",
      "This is flight number-3514, aircraft=VTICD, Start-DEL, End-CJB, Dep-7:40, arrival-11:0, flight duration=200 minutes\n",
      "Length of dict keys: 157\n",
      "This is flight number-3638, aircraft=VTICX, Start-MAA, End-DEL, Dep-21:30, arrival-24:20, flight duration=170 minutes\n",
      "This is flight number-3514, aircraft=VTICD, Start-DEL, End-CJB, Dep-7:40, arrival-11:0, flight duration=200 minutes\n",
      "44\n",
      "{'VTICD': [3514, 3515, 3516, 3517], 'VTICX': [3638], 'VTICF': [3755, 3756, 3757, 3758], 'VTICG': [3888, 3889, 3890], 'VTICH': [4021, 4022, 4023, 4024, 4025], 'VTICM': [4156, 4157, 4158, 4159], 'VTICN': [4289], 'VTICO': [4417, 4418, 4419, 4420], 'VTICB': [4535, 4536], 'VTICQ': [4657, 4658, 4659, 4660, 4661], 'VTXDD': [4765], 'VTXDX': [4825, 4826, 4827, 4828], 'VTXES': [4912, 4913, 4914, 4915, 4916], 'VTXEP': [5021, 5022, 5023, 5024], 'VTXEX': [5358, 5359], 'VTXEF': [5481, 5482, 5483], 'VTXEG': [5605, 5606, 5607, 5608], 'VTXEH': [5724, 5725, 5726, 5727], 'VTXEC': [5849, 5850, 5851, 5852], 'VTXEJ': [5970, 5972, 5974], 'VTXEK': [6088, 6089, 6090, 6091], 'VTXEL': [6212, 6213], 'VTXEM': [6317, 6318, 6319, 6320], 'VTXEN': [6429, 6430, 6431, 6432], 'VTXEO': [6542, 6543, 6544, 6545, 6546], 'VTXEB': [6659, 6660, 6661], 'VTXER': [6877], 'VTXEA': [7012, 7013, 7014, 7015], 'VTXET': [7151, 7152, 7153], 'VTXEU': [7262, 7263], 'VTBBS': [8026, 8027, 8028], 'VTBBP': [8089, 8090], 'VTBBD': [8189, 8190], 'VTBBX': [8266, 8267, 8268, 8269], 'VTBBK': [8447, 8448, 8449, 8450, 8451], 'VTBBM': [8624, 8625], 'VTBBT': [8915, 8916], 'VTBBV': [9023, 9024, 9025, 9026], 'VTBBW': [9087], 'VTBBE': [9140, 9141, 9142, 9143, 9144], 'VTAIP': [10753, 10754], 'VTAIF': [10932, 10933], 'VTAIG': [11019, 11020, 11021, 11022], 'VTAIH': [11106, 11107], 'VTAIO': [11227, 11228, 11229, 11230, 11231, 11232], 'VTAIB': [11365, 11366, 11367, 11368, 11369, 11370], 'VTAIR': [11535, 11536, 11537, 11538], 'VTAIA': [11632, 11633]}\n",
      "{'VTICD': [<__main__.lof object at 0x000001B2DA2C4320>], 'VTICX': [<__main__.lof object at 0x000001B2DA2C4198>], 'VTICF': [<__main__.lof object at 0x000001B2DA5EC400>], 'VTICG': [<__main__.lof object at 0x000001B2DA2C40B8>], 'VTICH': [<__main__.lof object at 0x000001B2DA5EC470>], 'VTICM': [<__main__.lof object at 0x000001B2DA5EC320>], 'VTICN': [<__main__.lof object at 0x000001B2DA5EC390>], 'VTICO': [<__main__.lof object at 0x000001B2DA5EC048>], 'VTICB': [<__main__.lof object at 0x000001B2DA5EC198>], 'VTICQ': [<__main__.lof object at 0x000001B2DA5EC3C8>], 'VTXDD': [<__main__.lof object at 0x000001B2DA5EC2E8>], 'VTXDX': [<__main__.lof object at 0x000001B2DA5EC1D0>], 'VTXES': [<__main__.lof object at 0x000001B2DA5EC208>], 'VTXEP': [<__main__.lof object at 0x000001B2DA5EC160>], 'VTXEX': [<__main__.lof object at 0x000001B2DA5EC128>], 'VTXEF': [<__main__.lof object at 0x000001B2DA5EC240>], 'VTXEG': [<__main__.lof object at 0x000001B2DA5EC080>], 'VTXEH': [<__main__.lof object at 0x000001B2DA419400>], 'VTXEC': [<__main__.lof object at 0x000001B2DA419320>], 'VTXEJ': [<__main__.lof object at 0x000001B2DA5EC0F0>], 'VTXEK': [<__main__.lof object at 0x000001B2DA419860>], 'VTXEL': [<__main__.lof object at 0x000001B2DA419B70>], 'VTXEM': [<__main__.lof object at 0x000001B2DA419EB8>], 'VTXEN': [<__main__.lof object at 0x000001B2DA419F60>], 'VTXEO': [<__main__.lof object at 0x000001B2DA5EC0B8>], 'VTXEB': [<__main__.lof object at 0x000001B2DA419668>], 'VTXER': [<__main__.lof object at 0x000001B2DA419F98>], 'VTXEA': [<__main__.lof object at 0x000001B2DA419E10>], 'VTXET': [<__main__.lof object at 0x000001B2DA4194E0>], 'VTXEU': [<__main__.lof object at 0x000001B2DA419CF8>], 'VTBBS': [<__main__.lof object at 0x000001B2DA419E80>], 'VTBBP': [<__main__.lof object at 0x000001B2DA419E48>], 'VTBBD': [<__main__.lof object at 0x000001B2DA419DD8>], 'VTBBX': [<__main__.lof object at 0x000001B2DA419C18>], 'VTBBK': [<__main__.lof object at 0x000001B2DA419D68>], 'VTBBM': [<__main__.lof object at 0x000001B2DA419CC0>], 'VTBBT': [<__main__.lof object at 0x000001B2DA419BA8>], 'VTBBV': [<__main__.lof object at 0x000001B2DA4199B0>], 'VTBBW': [<__main__.lof object at 0x000001B2DA419C50>], 'VTBBE': [<__main__.lof object at 0x000001B2DA419FD0>], 'VTAIP': [<__main__.lof object at 0x000001B2DA419978>], 'VTAIF': [<__main__.lof object at 0x000001B2DA4197F0>], 'VTAIG': [<__main__.lof object at 0x000001B2DA419940>], 'VTAIH': [<__main__.lof object at 0x000001B2DA419748>], 'VTAIO': [<__main__.lof object at 0x000001B2DA419710>], 'VTAIB': [<__main__.lof object at 0x000001B2DA4196A0>], 'VTAIR': [<__main__.lof object at 0x000001B2DA4196D8>], 'VTAIA': [<__main__.lof object at 0x000001B2DA419588>]}\n",
      "[]\n",
      "3638 MAA DEL 21:30 24:20\n",
      "VTICD = 18900 / VTICX = 0 / VTICF = 0 / VTICG = 0 / VTICH = 0 / VTICM = 0 / VTICN = 0 / VTICO = 0 / VTICB = 0 / VTICQ = 0 / VTXDD = 0 / VTXDX = 0 / VTXES = 0 / VTXEP = 0 / VTXEX = 0 / VTXEF = 0 / VTXEG = 0 / VTXEH = 0 / VTXEC = 0 / VTXEJ = 0 / VTXEK = 0 / VTXEL = 0 / VTXEM = 0 / VTXEN = 0 / VTXEO = 0 / VTXEB = 0 / VTXER = 0 / VTXEA = 0 / VTXET = 0 / VTXEU = 0 / VTBBS = 0 / VTBBP = 0 / VTBBD = 0 / VTBBX = 0 / VTBBK = 0 / VTBBM = 0 / VTBBT = 0 / VTBBV = 0 / VTBBW = 0 / VTBBE = 0 / VTAIP = 0 / VTAIF = 0 / VTAIG = 0 / VTAIH = 0 / VTAIO = 0 / VTAIB = 0 / VTAIR = 0 / VTAIA = 0 / 3514 DEL CJB 13:15 16:35\n",
      "3515 CJB DEL 17:5 20:5\n",
      "3516 DEL VNS 20:35 22:5\n",
      "3517 VNS DEL 22:35 24:20\n"
     ]
    },
    {
     "ename": "KeyError",
     "evalue": "7766",
     "output_type": "error",
     "traceback": [
      "\u001b[1;31m---------------------------------------------------------------------------\u001b[0m",
      "\u001b[1;31mKeyError\u001b[0m                                  Traceback (most recent call last)",
      "\u001b[1;32m~\\Desktop\\Sem 10\\MTP\\Aircraft_schedule Recovery\\ExcelToObjects.ipynb\u001b[0m in \u001b[0;36m<module>\u001b[1;34m()\u001b[0m\n\u001b[1;32m----> 1\u001b[1;33m \u001b[0mL\u001b[0m\u001b[1;33m=\u001b[0m\u001b[0madd_s\u001b[0m\u001b[1;33m(\u001b[0m\u001b[0mstartflights\u001b[0m\u001b[1;33m,\u001b[0m \u001b[0mflight_obj_dict\u001b[0m\u001b[1;33m[\u001b[0m\u001b[1;36m7766\u001b[0m\u001b[1;33m]\u001b[0m\u001b[1;33m.\u001b[0m\u001b[0mdep\u001b[0m\u001b[1;33m,\u001b[0m \u001b[0mflight_obj_dict\u001b[0m\u001b[1;33m[\u001b[0m\u001b[1;36m7766\u001b[0m\u001b[1;33m]\u001b[0m\u001b[1;33m.\u001b[0m\u001b[0morig\u001b[0m\u001b[1;33m)\u001b[0m\u001b[1;33m\u001b[0m\u001b[0m\n\u001b[0m\u001b[0;32m      2\u001b[0m \u001b[0mprint\u001b[0m\u001b[1;33m(\u001b[0m\u001b[0mL\u001b[0m\u001b[1;33m)\u001b[0m\u001b[1;33m\u001b[0m\u001b[0m\n\u001b[0;32m      3\u001b[0m \u001b[0mL\u001b[0m\u001b[1;33m[\u001b[0m\u001b[1;36m0\u001b[0m\u001b[1;33m]\u001b[0m\u001b[1;33m.\u001b[0m\u001b[0mflights\u001b[0m\u001b[1;33m[\u001b[0m\u001b[1;36m0\u001b[0m\u001b[1;33m]\u001b[0m\u001b[1;33m.\u001b[0m\u001b[0mdisplay\u001b[0m\u001b[1;33m(\u001b[0m\u001b[1;33m)\u001b[0m\u001b[1;33m\u001b[0m\u001b[0m\n\u001b[0;32m      4\u001b[0m \u001b[0mL\u001b[0m\u001b[1;33m[\u001b[0m\u001b[1;36m2\u001b[0m\u001b[1;33m]\u001b[0m\u001b[1;33m.\u001b[0m\u001b[0mflights\u001b[0m\u001b[1;33m[\u001b[0m\u001b[1;36m0\u001b[0m\u001b[1;33m]\u001b[0m\u001b[1;33m.\u001b[0m\u001b[0mdisplay\u001b[0m\u001b[1;33m(\u001b[0m\u001b[1;33m)\u001b[0m\u001b[1;33m\u001b[0m\u001b[0m\n\u001b[0;32m      5\u001b[0m \u001b[0mL\u001b[0m\u001b[1;33m[\u001b[0m\u001b[1;36m3\u001b[0m\u001b[1;33m]\u001b[0m\u001b[1;33m.\u001b[0m\u001b[0mflights\u001b[0m\u001b[1;33m[\u001b[0m\u001b[1;36m0\u001b[0m\u001b[1;33m]\u001b[0m\u001b[1;33m.\u001b[0m\u001b[0mdisplay\u001b[0m\u001b[1;33m(\u001b[0m\u001b[1;33m)\u001b[0m\u001b[1;33m\u001b[0m\u001b[0m\n",
      "\u001b[1;31mKeyError\u001b[0m: 7766"
     ]
    }
   ],
   "source": [
    "#Code for solving the subproblem\n",
    "#Iteratively increasing the levels of generated list and apply domination algorithm after each level increases \n",
    "import pickle\n",
    "import pandas as pd\n",
    "import numpy as np\n",
    "import datetime as time\n",
    "%run ExcelToObjects.ipynb\n",
    "compat = pd.read_excel(\"Input Files/Sample 6/aircraft_airport_compatibility.xlsx\")"
   ]
  },
  {
   "cell_type": "code",
   "execution_count": 17,
   "metadata": {},
   "outputs": [],
   "source": [
    "#Importing the relevant data for the flights, maintenance, etc.\n",
    "file1 = open(\"Preprocessed Objects/Sample 1/flight_dict\", 'rb')\n",
    "file2 = open(\"Preprocessed Objects/Sample 1/maint_dict\", 'rb')\n",
    "file3 = open(\"Preprocessed Objects/Sample 1/notam_dict\", 'rb')\n",
    "file4 = open(\"Preprocessed Objects/Sample 1/start_dict\", 'rb')\n",
    "file5 = open(\"Preprocessed Objects/Sample 1/penalty_dict\", 'rb')\n",
    "flight_obj_dict = pickle.load(file1)\n",
    "maint_obj_dict = pickle.load(file2)\n",
    "notam_obj_dict = pickle.load(file3)\n",
    "start_obj_dict = pickle.load(file4)\n",
    "penalty_obj_dict = pickle.load(file5)"
   ]
  },
  {
   "cell_type": "code",
   "execution_count": 18,
   "metadata": {},
   "outputs": [],
   "source": [
    "#make a class of LOF related data\n",
    "class lof:\n",
    "    'A class of route with attributes flights and available time after the end flight'\n",
    "    def __init__(self, flights, avail_time_end, port_end, cost, inf):\n",
    "        self.flights= flights\n",
    "        self.avail_time_end=avail_time_end\n",
    "        self.port_end=port_end\n",
    "        self.cost=cost\n",
    "        self.red_cost=0\n",
    "        self.info = inf\n",
    "        \n",
    "    def extend(self, F_added):\n",
    "        L=[]            #defining a list of LOFs\n",
    "        for f in F_added:\n",
    "            l=lof(self.flights+[f[0]], f[1], f[2])\n",
    "            L.append(l)\n",
    "        return L\n",
    "    \n",
    "    def display(self):\n",
    "        print(self.info)\n",
    "        '''\n",
    "        print(\"LOF\")\n",
    "        for f in self.flights:\n",
    "            print(\" %d\"%f.num , end=\" \")\n",
    "        print(\"\\n avail time in hours= %f\"%(self.avail_time_end/60))\n",
    "        print(\"End port=\"+str(self.port_end))\n",
    "        print(\"Cost=$\"+str(self.cost))\n",
    "        '''\n",
    "        \n",
    "    def is_f(self, f):\n",
    "        for i in self.flights:\n",
    "            if i!='m' and f.num == i.num:\n",
    "                return 1\n",
    "        return 0\n",
    "    \n",
    "    def is_p(self, p):\n",
    "        if p==self.port_end:\n",
    "            return 1\n",
    "        else:\n",
    "            return 0\n",
    "        \n",
    "    def calc_red(self,dual1, dual2_, dual3):\n",
    "        dual_sum=0\n",
    "        for f in self.flights:\n",
    "            if f!= 'm':\n",
    "                dual_sum = dual_sum + dual1[f.num]\n",
    "        dual_sum = dual_sum + dual2_\n",
    "        dual_sum = dual_sum + dual3[self.port_end]\n",
    "        self.red_cost = self.cost - dual_sum\n",
    "        return self.red_cost"
   ]
  },
  {
   "cell_type": "code",
   "execution_count": 19,
   "metadata": {},
   "outputs": [],
   "source": [
    "airport=[]\n",
    "for i in flight_obj_dict.keys():\n",
    "    if flight_obj_dict[i].orig not in airport:\n",
    "        airport.append(flight_obj_dict[i].orig)\n",
    "    if flight_obj_dict[i].dest not in airport:\n",
    "        airport.append(flight_obj_dict[i].dest)"
   ]
  },
  {
   "cell_type": "code",
   "execution_count": 20,
   "metadata": {},
   "outputs": [],
   "source": [
    "#Solving the subproblem\n",
    "#Checks extensions of LOF conditions\n",
    "def check_conditions(f, airplane_avail_time, avail_port, c=None):\n",
    "    f1=f2=f3=f4=0\n",
    "    f2=1\n",
    "    #Condition 1 : Night curfew\n",
    "    if f.dur+airplane_avail_time<26*60:\n",
    "        f1=1\n",
    "        '''\n",
    "    if c is not None:\n",
    "        if compat[c][f.dest]!=1:\n",
    "            f2=0\n",
    "            '''\n",
    "    if f1==1 and f2==1:\n",
    "        return 1\n",
    "    else:\n",
    "        return 0\n",
    "\n",
    "#creates a start list of lofs for a particular aircraft given its start time and start airport+\n",
    "def add_s(startflights, airplane_avail_time, avail_port, c=None): \n",
    "    L=[]\n",
    "    for f in startflights[avail_port]:\n",
    "        if  airplane_avail_time-(f.dep)>=0:\n",
    "            if check_conditions(f, airplane_avail_time, avail_port):\n",
    "                L.append(lof([f], f.dur+airplane_avail_time+30, f.dest, 20*(airplane_avail_time-(f.dep)),\\\n",
    "               str(f.num)+\" \"+ f.orig+\" \"+f.dest+ \" \"\\\n",
    "                +hour_min(airplane_avail_time)+\" \"+\\\n",
    "                hour_min(f.dur+airplane_avail_time)))\n",
    "        else:\n",
    "            if check_conditions(f, airplane_avail_time, avail_port):\n",
    "                L.append(lof([f], f.dur+f.dep, f.dest, 0,\\\n",
    "               str(f.num)+\" \"+ f.orig+\" \"+f.dest+ \" \"\\\n",
    "                +hour_min(f.dep)+\" \"+\\\n",
    "                hour_min(f.dur+f.dep)))\n",
    "    return L"
   ]
  },
  {
   "cell_type": "code",
   "execution_count": 21,
   "metadata": {},
   "outputs": [],
   "source": [
    "def create_next_l(l , f, notam_obj_dict, mode, dual1, dual2_,dual3):\n",
    "    #Create next level lof by adding f in the lof l. Two modes of the function \n",
    "    if mode==1:\n",
    "        max_time = 0\n",
    "        if l.port_end in list(notam_obj_dict.keys()):\n",
    "            if l.avail_time_end>=notam_obj_dict[l.port_end].start and l.avail_time_end<=notam_obj_dict[l.port_end].end:\n",
    "                max_time = notam_obj_dict[l.port_end].end + f.dur + 30\n",
    "            else:\n",
    "                max_time = l.avail_time_end+f.dur + 30 \n",
    "        if f.dest in list(notam_obj_dict.keys()):\n",
    "            if l.avail_time_end+f.dur>=notam_obj_dict[f.dest].start and l.avail_time_end+f.dur<=notam_obj_dict[f.dest].end:\n",
    "                t_av = notam_obj_dict[f.dest].end + 30\n",
    "                if t_av>max_time:\n",
    "                    max_time=t_av\n",
    "            else:\n",
    "                max_time = max(l.avail_time_end+f.dur + 30, max_time)\n",
    "        if l.port_end not in list(notam_obj_dict.keys()) and f.dest not in list(notam_obj_dict.keys()):\n",
    "            max_time = l.avail_time_end+f.dur + 30 \n",
    "        new_l=lof(l.flights+[f], max_time, f.dest, l.cost+20*(max_time-f.arr-30),\\\n",
    "               l.info + \"\\n\"+str(f.num)+\" \"+ f.orig+\" \"+f.dest+ \" \"\\\n",
    "                +hour_min(max_time - f.dur - 30)+\" \"+\\\n",
    "                hour_min(max_time-30))       \n",
    "                \n",
    "    elif mode==2:\n",
    "        max_time = 0\n",
    "        if f.orig in list(notam_obj_dict.keys()):\n",
    "            if f.dep>=notam_obj_dict[f.orig].start and f.dep<=notam_obj_dict[f.orig].end:\n",
    "                max_time = notam_obj_dict[f.orig].end + f.dur + 30\n",
    "            else:\n",
    "                max_time = f.arr.hour*60 + f.arr.minute + 30 \n",
    "        if f.dest in list(notam_obj_dict.keys()):\n",
    "            if f.dep.hour+f.dur>=notam_obj_dict[f.dest].start and f.dep.hour+f.dur<=notam_obj_dict[f.dest].end:\n",
    "                t_av = notam_obj_dict[f.dest].end + 30\n",
    "                if t_av>max_time:\n",
    "                    max_time=t_av\n",
    "            else:\n",
    "                max_time = max(f.arr + 30,max_time)\n",
    "        if f.orig not in list(notam_obj_dict.keys()) and f.dest not in list(notam_obj_dict.keys()):\n",
    "            max_time = f.arr + 30 \n",
    "        new_l=lof(l.flights+[f], max_time, f.dest, l.cost+20*(max_time-f.arr-30),\\\n",
    "               l.info + \"\\n\"+str(f.num)+\" \"+ f.orig+\" \"+f.dest+ \" \"\\\n",
    "                +hour_min(max_time - f.dur - 30)+\" \"+\\\n",
    "                hour_min(max_time-30))      \n",
    "    if max_time>26*60:\n",
    "        return -1\n",
    "    \n",
    "    new_l.calc_red(dual1, dual2_, dual3)\n",
    "    if l.avail_time_end-30 == new_l.avail_time_end- f.dur - 30:\n",
    "        print(\"Error in flight \",f.num)\n",
    "    return new_l"
   ]
  },
  {
   "cell_type": "code",
   "execution_count": 25,
   "metadata": {},
   "outputs": [],
   "source": [
    "# grows next layer into the list of LOF\n",
    "def add_nex(L, startflights, notam_obj_dict, dual1, dual2_, dual3, c=None):                \n",
    "    next_L=L[:]\n",
    "    flag=0\n",
    "    for l in L:\n",
    "        flag_l=0\n",
    "        if c in list(maint_obj_dict.keys()) and l.avail_time_end>maint_obj_dict[c].start and 'm' not in l.flights:\n",
    "            new_l = lof(l.flights+['m'], l.avail_time_end + maint_obj_dict[c].end-maint_obj_dict[c].start,l.port_end, l.cost,\\\n",
    "                       l.info+\"\\n Maintenance:\"+str(maint_obj_dict[c].end-maint_obj_dict[c].start)+\" min\")\n",
    "            next_L.append(new_l)\n",
    "            next_L.remove(l)\n",
    "            flag = 1\n",
    "        else:\n",
    "            for f in startflights[l.port_end]:\n",
    "                #Start here : if l.avail_time is within 2 hour early of maintent deadline or exceeds then maintain the aircraft\n",
    "                if f.dur+l.avail_time_end<26*60 and l.avail_time_end-(f.dep)>=0 and l.is_f(f)==0 :\n",
    "                #and compat[c][f.dest]==1:\n",
    "                    if create_next_l(l , f, notam_obj_dict, 1, dual1, dual2_,dual3)!=-1:\n",
    "                        flag_l=1\n",
    "                        flag=1\n",
    "                        new_l = create_next_l(l , f, notam_obj_dict, 1, dual1, dual2_,dual3)\n",
    "                        next_L.append(new_l)\n",
    "                elif f.dur+f.dep<26*60 and l.avail_time_end-(f.dep)<=0 and l.is_f(f)==0 :\n",
    "                #compat[c][f.dest]==1:\n",
    "                    if create_next_l(l , f, notam_obj_dict, 2, dual1, dual2_,dual3)!=-1:\n",
    "                        flag_l=1\n",
    "                        flag=1\n",
    "                        new_l = create_next_l(l , f, notam_obj_dict, 2, dual1, dual2_,dual3)\n",
    "                        next_L.append(new_l)\n",
    "            if flag_l==1:\n",
    "                next_L.remove(l)\n",
    "    #next_L[-1].display()\n",
    "    L[:]=next_L\n",
    "    #L[-1].display()\n",
    "    return flag"
   ]
  },
  {
   "cell_type": "code",
   "execution_count": 23,
   "metadata": {},
   "outputs": [],
   "source": [
    "#Domination step: Delete the elements with greater cost ending at the same airport\n",
    "def domination(L):\n",
    "    non_dom = []\n",
    "    port_end=[]\n",
    "    for l in L:\n",
    "        if l.port_end not in port_end:\n",
    "            port_end.append(l.port_end)\n",
    "    for p in port_end:\n",
    "        minCost = 10000000\n",
    "        for l in L:\n",
    "            if l.port_end==p and l.red_cost<minCost:\n",
    "                minCost = l.red_cost\n",
    "                l_best = l\n",
    "        non_dom.append(l_best)\n",
    "    '''\n",
    "    print(\"Domination procedure\")\n",
    "    print(\"---\")\n",
    "    print(\"###Set L###\")\n",
    "    for l in L:\n",
    "        l.display()\n",
    "    print(\"###Set non_dom###\")\n",
    "    for l in non_dom:\n",
    "        l.display()\n",
    "    print(\"---\")\n",
    "    '''\n",
    "    return non_dom"
   ]
  },
  {
   "cell_type": "code",
   "execution_count": 24,
   "metadata": {},
   "outputs": [],
   "source": [
    "def subprob(dual1, dual2, dual3):\n",
    "    Pos_lof_c={i:[] for i in list(start_obj_dict.keys())}\n",
    "    for i in Pos_lof_c.keys():\n",
    "        Pos_lof_c[i]=add_s(startflights, start_obj_dict[i].start_time, start_obj_dict[i].start_airport, i)\n",
    "        dual2_ = dual2[i]\n",
    "        flag=1\n",
    "        while flag==1:\n",
    "            flag=add_nex(Pos_lof_c[i], startflights, notam_obj_dict, dual1, dual2_,dual3)\n",
    "            Pos_lof_c[i] = domination(Pos_lof_c[i])\n",
    "    Pos_lof_c2={i:[] for i in list(start_obj_dict.keys())}\n",
    "    for i in Pos_lof_c.keys():     \n",
    "        min_red = 100000\n",
    "        for l in Pos_lof_c[i]:\n",
    "            if l.red_cost<min_red:\n",
    "                min_red=l.red_cost\n",
    "                l_this = l\n",
    "        Pos_lof_c2[i] = [l_this]\n",
    "        '''\n",
    "    for i in Pos_lof_c.keys():\n",
    "        print(\"---\",i,\"---\")\n",
    "        Pos_lof_c2[i][0].display()'''\n",
    "    return Pos_lof_c2\n",
    "    "
   ]
  },
  {
   "cell_type": "code",
   "execution_count": 14,
   "metadata": {},
   "outputs": [],
   "source": [
    "dual1={}\n",
    "dual2={}\n",
    "dual3={}\n",
    "for f in flight_obj_dict.keys():\n",
    "    dual1[f]=100\n",
    "for c in start_obj_dict.keys():\n",
    "    dual2[c] = 20\n",
    "for p in ['SIN', 'BOM', 'MAA', 'AUH', 'TRZ', 'COK', 'MCT']:\n",
    "    dual3[p] = 0\n",
    "dual3['COK'] = 100\n",
    "dual3['AUH'] = 100\n",
    "dual3['MAA'] = 100"
   ]
  },
  {
   "cell_type": "code",
   "execution_count": 15,
   "metadata": {},
   "outputs": [
    {
     "ename": "KeyError",
     "evalue": "'VTICD'",
     "output_type": "error",
     "traceback": [
      "\u001b[1;31m---------------------------------------------------------------------------\u001b[0m",
      "\u001b[1;31mKeyError\u001b[0m                                  Traceback (most recent call last)",
      "\u001b[1;32m<ipython-input-15-fc6c20677205>\u001b[0m in \u001b[0;36m<module>\u001b[1;34m()\u001b[0m\n\u001b[0;32m      5\u001b[0m \u001b[0mdual3\u001b[0m \u001b[1;33m=\u001b[0m \u001b[1;33m{\u001b[0m\u001b[1;34m'SIN'\u001b[0m\u001b[1;33m:\u001b[0m \u001b[1;36m0\u001b[0m\u001b[1;33m,\u001b[0m \u001b[1;34m'BOM'\u001b[0m\u001b[1;33m:\u001b[0m \u001b[1;36m0\u001b[0m\u001b[1;33m,\u001b[0m \u001b[1;34m'MAA'\u001b[0m\u001b[1;33m:\u001b[0m \u001b[1;36m0\u001b[0m\u001b[1;33m,\u001b[0m \u001b[1;34m'AUH'\u001b[0m\u001b[1;33m:\u001b[0m \u001b[1;36m0\u001b[0m\u001b[1;33m,\u001b[0m \u001b[1;34m'DEL'\u001b[0m\u001b[1;33m:\u001b[0m \u001b[1;36m10500.0\u001b[0m\u001b[1;33m,\u001b[0m \u001b[1;34m'PAT'\u001b[0m\u001b[1;33m:\u001b[0m \u001b[1;36m0\u001b[0m\u001b[1;33m,\u001b[0m \u001b[1;34m'LKO'\u001b[0m\u001b[1;33m:\u001b[0m \u001b[1;36m0\u001b[0m\u001b[1;33m,\u001b[0m \u001b[1;34m'TRV'\u001b[0m\u001b[1;33m:\u001b[0m \u001b[1;36m0\u001b[0m\u001b[1;33m,\u001b[0m \u001b[1;34m'MLE'\u001b[0m\u001b[1;33m:\u001b[0m \u001b[1;36m0\u001b[0m\u001b[1;33m,\u001b[0m \u001b[1;34m'BLR'\u001b[0m\u001b[1;33m:\u001b[0m \u001b[1;36m0\u001b[0m\u001b[1;33m,\u001b[0m \u001b[1;34m'BKK'\u001b[0m\u001b[1;33m:\u001b[0m \u001b[1;33m-\u001b[0m\u001b[1;36m21900.0\u001b[0m\u001b[1;33m,\u001b[0m \u001b[1;34m'VGA'\u001b[0m\u001b[1;33m:\u001b[0m \u001b[1;36m0\u001b[0m\u001b[1;33m,\u001b[0m \u001b[1;34m'HYD'\u001b[0m\u001b[1;33m:\u001b[0m \u001b[1;36m0\u001b[0m\u001b[1;33m,\u001b[0m \u001b[1;34m'BBI'\u001b[0m\u001b[1;33m:\u001b[0m \u001b[1;36m0\u001b[0m\u001b[1;33m,\u001b[0m \u001b[1;34m'COK'\u001b[0m\u001b[1;33m:\u001b[0m \u001b[1;36m0\u001b[0m\u001b[1;33m,\u001b[0m \u001b[1;34m'DXB'\u001b[0m\u001b[1;33m:\u001b[0m \u001b[1;36m0\u001b[0m\u001b[1;33m,\u001b[0m \u001b[1;34m'GOI'\u001b[0m\u001b[1;33m:\u001b[0m \u001b[1;36m0\u001b[0m\u001b[1;33m,\u001b[0m \u001b[1;34m'RUH'\u001b[0m\u001b[1;33m:\u001b[0m \u001b[1;36m0\u001b[0m\u001b[1;33m,\u001b[0m \u001b[1;34m'ATQ'\u001b[0m\u001b[1;33m:\u001b[0m \u001b[1;36m0\u001b[0m\u001b[1;33m,\u001b[0m \u001b[1;34m'NDC'\u001b[0m\u001b[1;33m:\u001b[0m \u001b[1;36m0\u001b[0m\u001b[1;33m,\u001b[0m \u001b[1;34m'CCU'\u001b[0m\u001b[1;33m:\u001b[0m \u001b[1;36m0\u001b[0m\u001b[1;33m,\u001b[0m \u001b[1;34m'PNQ'\u001b[0m\u001b[1;33m:\u001b[0m \u001b[1;36m0\u001b[0m\u001b[1;33m,\u001b[0m \u001b[1;34m'GAU'\u001b[0m\u001b[1;33m:\u001b[0m \u001b[1;36m0\u001b[0m\u001b[1;33m,\u001b[0m \u001b[1;34m'SXR'\u001b[0m\u001b[1;33m:\u001b[0m \u001b[1;36m0\u001b[0m\u001b[1;33m,\u001b[0m \u001b[1;34m'IXZ'\u001b[0m\u001b[1;33m:\u001b[0m \u001b[1;36m0\u001b[0m\u001b[1;33m,\u001b[0m \u001b[1;34m'VTZ'\u001b[0m\u001b[1;33m:\u001b[0m \u001b[1;36m0\u001b[0m\u001b[1;33m,\u001b[0m \u001b[1;34m'CCJ'\u001b[0m\u001b[1;33m:\u001b[0m \u001b[1;36m0\u001b[0m\u001b[1;33m,\u001b[0m \u001b[1;34m'TRZ'\u001b[0m\u001b[1;33m:\u001b[0m \u001b[1;36m0\u001b[0m\u001b[1;33m,\u001b[0m \u001b[1;34m'AAN'\u001b[0m\u001b[1;33m:\u001b[0m \u001b[1;36m0\u001b[0m\u001b[1;33m,\u001b[0m \u001b[1;34m'SHJ'\u001b[0m\u001b[1;33m:\u001b[0m \u001b[1;36m0\u001b[0m\u001b[1;33m,\u001b[0m \u001b[1;34m'IXM'\u001b[0m\u001b[1;33m:\u001b[0m \u001b[1;36m0\u001b[0m\u001b[1;33m,\u001b[0m \u001b[1;34m'CJB'\u001b[0m\u001b[1;33m:\u001b[0m \u001b[1;36m0\u001b[0m\u001b[1;33m,\u001b[0m \u001b[1;34m'MCT'\u001b[0m\u001b[1;33m:\u001b[0m \u001b[1;36m0\u001b[0m\u001b[1;33m,\u001b[0m \u001b[1;34m'CNN'\u001b[0m\u001b[1;33m:\u001b[0m \u001b[1;36m0\u001b[0m\u001b[1;33m,\u001b[0m \u001b[1;34m'IXE'\u001b[0m\u001b[1;33m:\u001b[0m \u001b[1;36m0\u001b[0m\u001b[1;33m,\u001b[0m \u001b[1;34m'VNS'\u001b[0m\u001b[1;33m:\u001b[0m \u001b[1;36m0\u001b[0m\u001b[1;33m,\u001b[0m \u001b[1;34m'FCO'\u001b[0m\u001b[1;33m:\u001b[0m \u001b[1;36m0\u001b[0m\u001b[1;33m,\u001b[0m \u001b[1;34m'FRA'\u001b[0m\u001b[1;33m:\u001b[0m \u001b[1;33m-\u001b[0m\u001b[1;36m28800.0\u001b[0m\u001b[1;33m,\u001b[0m \u001b[1;34m'MEL'\u001b[0m\u001b[1;33m:\u001b[0m \u001b[1;36m0\u001b[0m\u001b[1;33m,\u001b[0m \u001b[1;34m'CDG'\u001b[0m\u001b[1;33m:\u001b[0m \u001b[1;36m0\u001b[0m\u001b[1;33m,\u001b[0m \u001b[1;34m'LHR'\u001b[0m\u001b[1;33m:\u001b[0m \u001b[1;36m0\u001b[0m\u001b[1;33m,\u001b[0m \u001b[1;34m'PVG'\u001b[0m\u001b[1;33m:\u001b[0m \u001b[1;36m0\u001b[0m\u001b[1;33m,\u001b[0m \u001b[1;34m'AMD'\u001b[0m\u001b[1;33m:\u001b[0m \u001b[1;36m0\u001b[0m\u001b[1;33m,\u001b[0m \u001b[1;34m'NRT'\u001b[0m\u001b[1;33m:\u001b[0m \u001b[1;36m0\u001b[0m\u001b[1;33m,\u001b[0m \u001b[1;34m'VIE'\u001b[0m\u001b[1;33m:\u001b[0m \u001b[1;36m0\u001b[0m\u001b[1;33m,\u001b[0m \u001b[1;34m'HKG'\u001b[0m\u001b[1;33m:\u001b[0m \u001b[1;36m0\u001b[0m\u001b[1;33m,\u001b[0m \u001b[1;34m'ICN'\u001b[0m\u001b[1;33m:\u001b[0m \u001b[1;36m0\u001b[0m\u001b[1;33m,\u001b[0m \u001b[1;34m'BHX'\u001b[0m\u001b[1;33m:\u001b[0m \u001b[1;36m0\u001b[0m\u001b[1;33m,\u001b[0m \u001b[1;34m'ORD'\u001b[0m\u001b[1;33m:\u001b[0m \u001b[1;36m0\u001b[0m\u001b[1;33m,\u001b[0m \u001b[1;34m'ARN'\u001b[0m\u001b[1;33m:\u001b[0m \u001b[1;36m0\u001b[0m\u001b[1;33m,\u001b[0m \u001b[1;34m'JFK'\u001b[0m\u001b[1;33m:\u001b[0m \u001b[1;36m0\u001b[0m\u001b[1;33m,\u001b[0m \u001b[1;34m'JED'\u001b[0m\u001b[1;33m:\u001b[0m \u001b[1;36m0\u001b[0m\u001b[1;33m,\u001b[0m \u001b[1;34m'SFO'\u001b[0m\u001b[1;33m:\u001b[0m \u001b[1;36m0\u001b[0m\u001b[1;33m,\u001b[0m \u001b[1;34m'SAG'\u001b[0m\u001b[1;33m:\u001b[0m \u001b[1;36m0\u001b[0m\u001b[1;33m,\u001b[0m \u001b[1;34m'ISK'\u001b[0m\u001b[1;33m:\u001b[0m \u001b[1;36m0\u001b[0m\u001b[1;33m}\u001b[0m\u001b[1;33m\u001b[0m\u001b[0m\n\u001b[0;32m      6\u001b[0m \u001b[1;33m\u001b[0m\u001b[0m\n\u001b[1;32m----> 7\u001b[1;33m \u001b[0mPL\u001b[0m \u001b[1;33m=\u001b[0m \u001b[0msubprob\u001b[0m\u001b[1;33m(\u001b[0m\u001b[0mdual1\u001b[0m\u001b[1;33m,\u001b[0m \u001b[0mdual2\u001b[0m\u001b[1;33m,\u001b[0m \u001b[0mdual3\u001b[0m\u001b[1;33m)\u001b[0m\u001b[1;33m\u001b[0m\u001b[0m\n\u001b[0m",
      "\u001b[1;32m<ipython-input-13-0d3a77925b88>\u001b[0m in \u001b[0;36msubprob\u001b[1;34m(dual1, dual2, dual3)\u001b[0m\n\u001b[0;32m      3\u001b[0m     \u001b[1;32mfor\u001b[0m \u001b[0mi\u001b[0m \u001b[1;32min\u001b[0m \u001b[0mPos_lof_c\u001b[0m\u001b[1;33m.\u001b[0m\u001b[0mkeys\u001b[0m\u001b[1;33m(\u001b[0m\u001b[1;33m)\u001b[0m\u001b[1;33m:\u001b[0m\u001b[1;33m\u001b[0m\u001b[0m\n\u001b[0;32m      4\u001b[0m         \u001b[0mPos_lof_c\u001b[0m\u001b[1;33m[\u001b[0m\u001b[0mi\u001b[0m\u001b[1;33m]\u001b[0m\u001b[1;33m=\u001b[0m\u001b[0madd_s\u001b[0m\u001b[1;33m(\u001b[0m\u001b[0mstartflights\u001b[0m\u001b[1;33m,\u001b[0m \u001b[0mstart_obj_dict\u001b[0m\u001b[1;33m[\u001b[0m\u001b[0mi\u001b[0m\u001b[1;33m]\u001b[0m\u001b[1;33m.\u001b[0m\u001b[0mstart_time\u001b[0m\u001b[1;33m,\u001b[0m \u001b[0mstart_obj_dict\u001b[0m\u001b[1;33m[\u001b[0m\u001b[0mi\u001b[0m\u001b[1;33m]\u001b[0m\u001b[1;33m.\u001b[0m\u001b[0mstart_airport\u001b[0m\u001b[1;33m,\u001b[0m \u001b[0mi\u001b[0m\u001b[1;33m)\u001b[0m\u001b[1;33m\u001b[0m\u001b[0m\n\u001b[1;32m----> 5\u001b[1;33m         \u001b[0mdual2_\u001b[0m \u001b[1;33m=\u001b[0m \u001b[0mdual2\u001b[0m\u001b[1;33m[\u001b[0m\u001b[0mi\u001b[0m\u001b[1;33m]\u001b[0m\u001b[1;33m\u001b[0m\u001b[0m\n\u001b[0m\u001b[0;32m      6\u001b[0m         \u001b[0mflag\u001b[0m\u001b[1;33m=\u001b[0m\u001b[1;36m1\u001b[0m\u001b[1;33m\u001b[0m\u001b[0m\n\u001b[0;32m      7\u001b[0m         \u001b[1;32mwhile\u001b[0m \u001b[0mflag\u001b[0m\u001b[1;33m==\u001b[0m\u001b[1;36m1\u001b[0m\u001b[1;33m:\u001b[0m\u001b[1;33m\u001b[0m\u001b[0m\n",
      "\u001b[1;31mKeyError\u001b[0m: 'VTICD'"
     ]
    }
   ],
   "source": [
    "dual1 = {7766: 2000.0, 7800: 2300.0, 7834: 9600.0, 18461: -1100.0, 4919: 0, 8139: 0, 8174: 0, 8680: 1000.0, 8972: 2900.0, 16300: 1500.0, 16334: 0, 6831: 0, 6971: 0, 7629: -35300.0, 7690: 28800.0, 9453: 4300.0, 9488: 0, 11472: 1300.0, 11473: 8000.0, 16862: 0, 16863: 0, 6889: -1500.0, 6890: 0, 6944: 0, 15217: 0, 15236: 0, 4451: 0, 18255: 0, 18320: 0, 4230: -2200.0, 14439: 0, 14640: 2200.0, 18106: 0, 6297: 0, 6355: 0, 8701: 0, 8720: 0, 14674: 0, 17225: -2100.0, 13643: 0, 13653: 0, 16396: 0, 16406: 0, 4196: 2900.0, 10636: 0, 10797: 7000.0, 15537: 0, 16176: 6600.0, 17020: 0, 17668: -36200.0, 17702: 28800.0, 19756: 0, 19791: 0, 4383: 0, 4418: 0, 10269: 0, 10317: 0, 10318: 0, 20187: 0, 20290: 0, 21037: 0, 22604: -24500.0, 22638: 28800.0, 22739: 0, 22773: 0, 20903: -28800.0, 20914: 28800.0, 21240: 0, 20558: 0, 22302: 0, 20700: 0, 20736: 0, 20771: 0, 20629: 0, 20643: 0, 22501: 0, 22107: 0, 22108: 0, 22145: 0, 22146: 0, 20109: 0, 20128: 8400.0, 22689: 0, 22708: 0, 20256: 0, 20925: 0, 21066: 0, 21636: 0, 21729: 0, 21763: 0, 21809: 0, 22884: 0, 22234: 0, 22268: 0, 22371: 0, 22405: 0, 23111: 0, 23152: 0, 23168: 0, 20363: 28800.0, 20397: 28800.0, 22569: 28800.0, 5426: 2100.0, 8002: 11000.0, 5440: 0, 5459: 0, 7221: 0, 17874: 0, 5909: 0, 6191: 0, 5187: 0, 7871: -2300.0, 7872: 0, 7921: 0, 6273: 0, 7183: 0, 6041: 0, 7253: 0, 7398: 0, 7399: 0, 7400: 0, 7490: -27400.0, 7526: 28800.0, 7202: 0, 19509: 0, 5380: 28800.0, 3958: 0, 5252: 700.0, 5253: 2100.0, 9519: 2300.0, 5131: 0, 5484: 0, 5553: 0, 4993: 0, 18208: -28800.0, 18230: 28800.0, 6444: 0, 5483: 0, 5554: 0, 3584: -28700.0, 3620: 28800.0, 3657: 0, 3720: 0} \n",
    "\n",
    "dual2 = {'VTEDD': -6000.0, 'VTCIG': 0, 'VTEXJ': 0, 'VTEXH': -3700.0, 'VTEXI': 0, 'VTEXG': 0, 'VTCIQ': -9000.0, 'VTCIO': -10500.0, 'VTCIN': 0, 'VTCIM': -8400.0, 'VTCIH': 0, 'VTCIF': -3100.0, 'VTCID': -10500.0, 'VTAYB': 0, 'VTAYA': -4300.0, 'VTAXZ': 0, 'VTAXX': 0, 'VTAXW': 0, 'VTAXU': 0, 'VTAXT': 0, 'VTAXR': -8400.0, 'VTAXP': 0, 'VTAXN': 0, 'VTAXM': 0, 'VTAXJ': 0, 'VTAXI': 0, 'VTAXH': -86400.0, 'VTANY': -13100.0, 'VTANX': 0, 'VTANV': 0, 'VTANU': 0, 'VTANT': 0, 'VTANR': -10500.0, 'VTANQ': 0, 'VTANP': -8200.0, 'VTANN': 0, 'VTANL': 0, 'VTANK': 0, 'VTANI': 0, 'VTANH': 0, 'VTANG': 0, 'VTANE': 0, 'VTAND': -10500.0, 'VTANC': -5100.0, 'VTALN': 0, 'VTALL': -10500.0, 'VTALK': 0, 'VTALJ': 0, 'VTALH': 0, 'VTALF': -10500.0, 'VTAIY': 0} \n",
    "\n",
    "dual3 = {'SIN': 0, 'BOM': 0, 'MAA': 0, 'AUH': 0, 'DEL': 10500.0, 'PAT': 0, 'LKO': 0, 'TRV': 0, 'MLE': 0, 'BLR': 0, 'BKK': -21900.0, 'VGA': 0, 'HYD': 0, 'BBI': 0, 'COK': 0, 'DXB': 0, 'GOI': 0, 'RUH': 0, 'ATQ': 0, 'NDC': 0, 'CCU': 0, 'PNQ': 0, 'GAU': 0, 'SXR': 0, 'IXZ': 0, 'VTZ': 0, 'CCJ': 0, 'TRZ': 0, 'AAN': 0, 'SHJ': 0, 'IXM': 0, 'CJB': 0, 'MCT': 0, 'CNN': 0, 'IXE': 0, 'VNS': 0, 'FCO': 0, 'FRA': -28800.0, 'MEL': 0, 'CDG': 0, 'LHR': 0, 'PVG': 0, 'AMD': 0, 'NRT': 0, 'VIE': 0, 'HKG': 0, 'ICN': 0, 'BHX': 0, 'ORD': 0, 'ARN': 0, 'JFK': 0, 'JED': 0, 'SFO': 0, 'SAG': 0, 'ISK': 0}\n",
    "\n",
    "PL = subprob(dual1, dual2, dual3)"
   ]
  },
  {
   "cell_type": "code",
   "execution_count": 18,
   "metadata": {},
   "outputs": [
    {
     "data": {
      "text/plain": [
       "{'VTEDD': <__main__.aircraft at 0x1c5c59c7a58>,\n",
       " 'VTCIG': <__main__.aircraft at 0x1c5c59c77f0>,\n",
       " 'VTEXJ': <__main__.aircraft at 0x1c5c59c78d0>,\n",
       " 'VTEXH': <__main__.aircraft at 0x1c5c59c7630>,\n",
       " 'VTEXI': <__main__.aircraft at 0x1c5c59c7550>,\n",
       " 'VTEXG': <__main__.aircraft at 0x1c5c59c74e0>,\n",
       " 'VTCIQ': <__main__.aircraft at 0x1c5c59c7470>,\n",
       " 'VTCIO': <__main__.aircraft at 0x1c5c59c7400>,\n",
       " 'VTCIN': <__main__.aircraft at 0x1c5c59c7320>,\n",
       " 'VTCIM': <__main__.aircraft at 0x1c5c59c7240>,\n",
       " 'VTCIH': <__main__.aircraft at 0x1c5c59c7208>,\n",
       " 'VTCIF': <__main__.aircraft at 0x1c5c59c7128>,\n",
       " 'VTCID': <__main__.aircraft at 0x1c5c59c7080>,\n",
       " 'VTAYB': <__main__.aircraft at 0x1c5c5374390>,\n",
       " 'VTAYA': <__main__.aircraft at 0x1c5c59fc940>,\n",
       " 'VTAXZ': <__main__.aircraft at 0x1c5c59fcb70>,\n",
       " 'VTAXX': <__main__.aircraft at 0x1c5c59fcd68>,\n",
       " 'VTAXW': <__main__.aircraft at 0x1c5c59f02b0>,\n",
       " 'VTAXU': <__main__.aircraft at 0x1c5c59f0a20>,\n",
       " 'VTAXT': <__main__.aircraft at 0x1c5c59f0d68>,\n",
       " 'VTAXR': <__main__.aircraft at 0x1c5c59f0438>,\n",
       " 'VTAXP': <__main__.aircraft at 0x1c5c59f0cf8>,\n",
       " 'VTAXN': <__main__.aircraft at 0x1c5c59f06a0>,\n",
       " 'VTAXM': <__main__.aircraft at 0x1c5c59f0f98>,\n",
       " 'VTAXJ': <__main__.aircraft at 0x1c5c59f0f60>,\n",
       " 'VTAXI': <__main__.aircraft at 0x1c5c59f0e10>,\n",
       " 'VTAXH': <__main__.aircraft at 0x1c5c59f0dd8>,\n",
       " 'VTANY': <__main__.aircraft at 0x1c5c59f0d30>,\n",
       " 'VTANX': <__main__.aircraft at 0x1c5c59f0c50>,\n",
       " 'VTANV': <__main__.aircraft at 0x1c5c59f0b38>,\n",
       " 'VTANU': <__main__.aircraft at 0x1c5c59f0ba8>,\n",
       " 'VTANT': <__main__.aircraft at 0x1c5c59f0b70>,\n",
       " 'VTANR': <__main__.aircraft at 0x1c5c59f0ac8>,\n",
       " 'VTANQ': <__main__.aircraft at 0x1c5c59f0978>,\n",
       " 'VTANP': <__main__.aircraft at 0x1c5c59f09e8>,\n",
       " 'VTANN': <__main__.aircraft at 0x1c5c59f0908>,\n",
       " 'VTANL': <__main__.aircraft at 0x1c5c59f0748>,\n",
       " 'VTANK': <__main__.aircraft at 0x1c5c59f07f0>,\n",
       " 'VTANI': <__main__.aircraft at 0x1c5c59f06d8>,\n",
       " 'VTANH': <__main__.aircraft at 0x1c5c59f0630>,\n",
       " 'VTANG': <__main__.aircraft at 0x1c5c59f05c0>,\n",
       " 'VTANE': <__main__.aircraft at 0x1c5c59f0470>,\n",
       " 'VTAND': <__main__.aircraft at 0x1c5c59f0400>,\n",
       " 'VTANC': <__main__.aircraft at 0x1c5c59f00b8>,\n",
       " 'VTALN': <__main__.aircraft at 0x1c5c5918ef0>,\n",
       " 'VTALL': <__main__.aircraft at 0x1c5c5918f60>,\n",
       " 'VTALK': <__main__.aircraft at 0x1c5c5881048>,\n",
       " 'VTALJ': <__main__.aircraft at 0x1c5c58810f0>,\n",
       " 'VTALH': <__main__.aircraft at 0x1c5c5881160>,\n",
       " 'VTALF': <__main__.aircraft at 0x1c5c58811d0>,\n",
       " 'VTAIY': <__main__.aircraft at 0x1c5c5881240>}"
      ]
     },
     "execution_count": 18,
     "metadata": {},
     "output_type": "execute_result"
    }
   ],
   "source": [
    "start_obj_dict"
   ]
  },
  {
   "cell_type": "code",
   "execution_count": 19,
   "metadata": {},
   "outputs": [
    {
     "data": {
      "text/plain": [
       "{7766: <__main__.flight at 0x1c5c5809048>,\n",
       " 7800: <__main__.flight at 0x1c5c56fb358>,\n",
       " 7834: <__main__.flight at 0x1c5c56fbc88>,\n",
       " 18461: <__main__.flight at 0x1c5c56fb6a0>,\n",
       " 4919: <__main__.flight at 0x1c5c56fb518>,\n",
       " 8139: <__main__.flight at 0x1c5c56fb550>,\n",
       " 8174: <__main__.flight at 0x1c5c56fbeb8>,\n",
       " 8680: <__main__.flight at 0x1c5c56fbef0>,\n",
       " 8972: <__main__.flight at 0x1c5c56fbe80>,\n",
       " 16300: <__main__.flight at 0x1c5c56fb2b0>,\n",
       " 16334: <__main__.flight at 0x1c5c56e6c18>,\n",
       " 6831: <__main__.flight at 0x1c5c56e6eb8>,\n",
       " 6971: <__main__.flight at 0x1c5c56e68d0>,\n",
       " 7629: <__main__.flight at 0x1c5c5b42630>,\n",
       " 7690: <__main__.flight at 0x1c5c5b42c50>,\n",
       " 9453: <__main__.flight at 0x1c5c5b42908>,\n",
       " 9488: <__main__.flight at 0x1c5c5b42898>,\n",
       " 11472: <__main__.flight at 0x1c5c5b428d0>,\n",
       " 11473: <__main__.flight at 0x1c5c5b42358>,\n",
       " 16862: <__main__.flight at 0x1c5c5b423c8>,\n",
       " 16863: <__main__.flight at 0x1c5c5b42668>,\n",
       " 6889: <__main__.flight at 0x1c5c5b42710>,\n",
       " 6890: <__main__.flight at 0x1c5c5b42390>,\n",
       " 6944: <__main__.flight at 0x1c5c5b424a8>,\n",
       " 15217: <__main__.flight at 0x1c5c5b42828>,\n",
       " 15236: <__main__.flight at 0x1c5c5b42438>,\n",
       " 4451: <__main__.flight at 0x1c5c5b429e8>,\n",
       " 18255: <__main__.flight at 0x1c5c5b42b70>,\n",
       " 18320: <__main__.flight at 0x1c5c5b42ac8>,\n",
       " 4230: <__main__.flight at 0x1c5c5b424e0>,\n",
       " 14439: <__main__.flight at 0x1c5c5b42780>,\n",
       " 14640: <__main__.flight at 0x1c5c5b42518>,\n",
       " 18106: <__main__.flight at 0x1c5c5b42470>,\n",
       " 6297: <__main__.flight at 0x1c5c5b42b00>,\n",
       " 6355: <__main__.flight at 0x1c5c5b42ba8>,\n",
       " 8701: <__main__.flight at 0x1c5c5b42f28>,\n",
       " 8720: <__main__.flight at 0x1c5c5b42cc0>,\n",
       " 14674: <__main__.flight at 0x1c5c5b42ef0>,\n",
       " 17225: <__main__.flight at 0x1c5c5b42be0>,\n",
       " 13643: <__main__.flight at 0x1c5c5b42c18>,\n",
       " 13653: <__main__.flight at 0x1c5c5b42a20>,\n",
       " 16396: <__main__.flight at 0x1c5c5b42860>,\n",
       " 16406: <__main__.flight at 0x1c5c5b42f98>,\n",
       " 4196: <__main__.flight at 0x1c5c5b42e48>,\n",
       " 10636: <__main__.flight at 0x1c5c5b42d68>,\n",
       " 10797: <__main__.flight at 0x1c5c5b42d30>,\n",
       " 15537: <__main__.flight at 0x1c5c5b42cf8>,\n",
       " 16176: <__main__.flight at 0x1c5c5b42eb8>,\n",
       " 17020: <__main__.flight at 0x1c5c5b42fd0>,\n",
       " 17668: <__main__.flight at 0x1c5c59aca20>,\n",
       " 17702: <__main__.flight at 0x1c5c59acb38>,\n",
       " 19756: <__main__.flight at 0x1c5c59acba8>,\n",
       " 19791: <__main__.flight at 0x1c5c59accc0>,\n",
       " 4383: <__main__.flight at 0x1c5c59ac4e0>,\n",
       " 4418: <__main__.flight at 0x1c5c59ac2e8>,\n",
       " 10269: <__main__.flight at 0x1c5c59ac240>,\n",
       " 10317: <__main__.flight at 0x1c5c59ac390>,\n",
       " 10318: <__main__.flight at 0x1c5c59ac2b0>,\n",
       " 20187: <__main__.flight at 0x1c5c59ac5c0>,\n",
       " 20290: <__main__.flight at 0x1c5c59ac630>,\n",
       " 21037: <__main__.flight at 0x1c5c59ac1d0>,\n",
       " 22604: <__main__.flight at 0x1c5c59ac160>,\n",
       " 22638: <__main__.flight at 0x1c5c59ac4a8>,\n",
       " 22739: <__main__.flight at 0x1c5c59ac668>,\n",
       " 22773: <__main__.flight at 0x1c5c59ac710>,\n",
       " 20903: <__main__.flight at 0x1c5c59ac588>,\n",
       " 20914: <__main__.flight at 0x1c5c59accf8>,\n",
       " 21240: <__main__.flight at 0x1c5c59acbe0>,\n",
       " 20558: <__main__.flight at 0x1c5c59ace80>,\n",
       " 22302: <__main__.flight at 0x1c5c59acf28>,\n",
       " 20700: <__main__.flight at 0x1c5c59acf60>,\n",
       " 20736: <__main__.flight at 0x1c5c59acef0>,\n",
       " 20771: <__main__.flight at 0x1c5c59acc18>,\n",
       " 20629: <__main__.flight at 0x1c5c59acfd0>,\n",
       " 20643: <__main__.flight at 0x1c5c59ac6a0>,\n",
       " 22501: <__main__.flight at 0x1c5c59ac828>,\n",
       " 22107: <__main__.flight at 0x1c5c59ac860>,\n",
       " 22108: <__main__.flight at 0x1c5c59ac7f0>,\n",
       " 22145: <__main__.flight at 0x1c5c59aca90>,\n",
       " 22146: <__main__.flight at 0x1c5c59ac8d0>,\n",
       " 20109: <__main__.flight at 0x1c5c59acb00>,\n",
       " 20128: <__main__.flight at 0x1c5c59acda0>,\n",
       " 22689: <__main__.flight at 0x1c5c59acb70>,\n",
       " 22708: <__main__.flight at 0x1c5c59acc50>,\n",
       " 20256: <__main__.flight at 0x1c5c59ac780>,\n",
       " 20925: <__main__.flight at 0x1c5c59ac198>,\n",
       " 21066: <__main__.flight at 0x1c5c59ac278>,\n",
       " 21636: <__main__.flight at 0x1c5c59ac208>,\n",
       " 21729: <__main__.flight at 0x1c5c59ac128>,\n",
       " 21763: <__main__.flight at 0x1c5c59ac0b8>,\n",
       " 21809: <__main__.flight at 0x1c5c59ac358>,\n",
       " 22884: <__main__.flight at 0x1c5c59ac3c8>,\n",
       " 22234: <__main__.flight at 0x1c5c59acd30>,\n",
       " 22268: <__main__.flight at 0x1c5c5702cc0>,\n",
       " 22371: <__main__.flight at 0x1c5c5702048>,\n",
       " 22405: <__main__.flight at 0x1c5c5702cf8>,\n",
       " 23111: <__main__.flight at 0x1c5c5702c88>,\n",
       " 23152: <__main__.flight at 0x1c5c5702a58>,\n",
       " 23168: <__main__.flight at 0x1c5c5702d30>,\n",
       " 20363: <__main__.flight at 0x1c5c57020b8>,\n",
       " 20397: <__main__.flight at 0x1c5c570c9b0>,\n",
       " 22569: <__main__.flight at 0x1c5c570c7f0>,\n",
       " 5426: <__main__.flight at 0x1c5c570c940>,\n",
       " 8002: <__main__.flight at 0x1c5c2c643c8>,\n",
       " 5440: <__main__.flight at 0x1c5c591e048>,\n",
       " 5459: <__main__.flight at 0x1c5c591e0f0>,\n",
       " 7221: <__main__.flight at 0x1c5c591e128>,\n",
       " 17874: <__main__.flight at 0x1c5c591e1d0>,\n",
       " 5909: <__main__.flight at 0x1c5c591e240>,\n",
       " 6191: <__main__.flight at 0x1c5c591e2e8>,\n",
       " 5187: <__main__.flight at 0x1c5c591e390>,\n",
       " 7871: <__main__.flight at 0x1c5c591e400>,\n",
       " 7872: <__main__.flight at 0x1c5c591e470>,\n",
       " 7921: <__main__.flight at 0x1c5c591e4e0>,\n",
       " 6273: <__main__.flight at 0x1c5c591e518>,\n",
       " 7183: <__main__.flight at 0x1c5c591e5c0>,\n",
       " 6041: <__main__.flight at 0x1c5c591e668>,\n",
       " 7253: <__main__.flight at 0x1c5c591e710>,\n",
       " 7398: <__main__.flight at 0x1c5c591e7f0>,\n",
       " 7399: <__main__.flight at 0x1c5c591e828>,\n",
       " 7400: <__main__.flight at 0x1c5c591e860>,\n",
       " 7490: <__main__.flight at 0x1c5c591e898>,\n",
       " 7526: <__main__.flight at 0x1c5c591e908>,\n",
       " 7202: <__main__.flight at 0x1c5c591e940>,\n",
       " 19509: <__main__.flight at 0x1c5c591e9b0>,\n",
       " 5380: <__main__.flight at 0x1c5c591e9e8>,\n",
       " 3958: <__main__.flight at 0x1c5c591ea58>,\n",
       " 5252: <__main__.flight at 0x1c5c591eac8>,\n",
       " 5253: <__main__.flight at 0x1c5c591eb38>,\n",
       " 9519: <__main__.flight at 0x1c5c591eba8>,\n",
       " 5131: <__main__.flight at 0x1c5c591ebe0>,\n",
       " 5484: <__main__.flight at 0x1c5c591ec50>,\n",
       " 5553: <__main__.flight at 0x1c5c591ecf8>,\n",
       " 4993: <__main__.flight at 0x1c5c591ed68>,\n",
       " 18208: <__main__.flight at 0x1c5c591ee10>,\n",
       " 18230: <__main__.flight at 0x1c5c591eeb8>,\n",
       " 6444: <__main__.flight at 0x1c5c591eef0>,\n",
       " 5483: <__main__.flight at 0x1c5c591ef98>,\n",
       " 5554: <__main__.flight at 0x1c5c5918048>,\n",
       " 3584: <__main__.flight at 0x1c5c5918080>,\n",
       " 3620: <__main__.flight at 0x1c5c5918128>,\n",
       " 3657: <__main__.flight at 0x1c5c5918160>,\n",
       " 3720: <__main__.flight at 0x1c5c59181d0>}"
      ]
     },
     "execution_count": 19,
     "metadata": {},
     "output_type": "execute_result"
    }
   ],
   "source": [
    "flight_obj_dict"
   ]
  },
  {
   "cell_type": "code",
   "execution_count": 20,
   "metadata": {},
   "outputs": [
    {
     "data": {
      "text/plain": [
       "['SIN',\n",
       " 'BOM',\n",
       " 'MAA',\n",
       " 'AUH',\n",
       " 'DEL',\n",
       " 'PAT',\n",
       " 'LKO',\n",
       " 'TRV',\n",
       " 'MLE',\n",
       " 'BLR',\n",
       " 'BKK',\n",
       " 'VGA',\n",
       " 'HYD',\n",
       " 'BBI',\n",
       " 'COK',\n",
       " 'DXB',\n",
       " 'GOI',\n",
       " 'RUH',\n",
       " 'ATQ',\n",
       " 'NDC',\n",
       " 'CCU',\n",
       " 'PNQ',\n",
       " 'GAU',\n",
       " 'SXR',\n",
       " 'IXZ',\n",
       " 'VTZ',\n",
       " 'CCJ',\n",
       " 'TRZ',\n",
       " 'AAN',\n",
       " 'SHJ',\n",
       " 'IXM',\n",
       " 'CJB',\n",
       " 'MCT',\n",
       " 'CNN',\n",
       " 'IXE',\n",
       " 'VNS',\n",
       " 'FCO',\n",
       " 'FRA',\n",
       " 'MEL',\n",
       " 'CDG',\n",
       " 'LHR',\n",
       " 'PVG',\n",
       " 'AMD',\n",
       " 'NRT',\n",
       " 'VIE',\n",
       " 'HKG',\n",
       " 'ICN',\n",
       " 'BHX',\n",
       " 'ORD',\n",
       " 'ARN',\n",
       " 'JFK',\n",
       " 'JED',\n",
       " 'SFO',\n",
       " 'SAG',\n",
       " 'ISK']"
      ]
     },
     "execution_count": 20,
     "metadata": {},
     "output_type": "execute_result"
    }
   ],
   "source": [
    "\n",
    "airport"
   ]
  },
  {
   "cell_type": "code",
   "execution_count": 21,
   "metadata": {},
   "outputs": [
    {
     "ename": "KeyError",
     "evalue": "'DEL'",
     "output_type": "error",
     "traceback": [
      "\u001b[1;31m---------------------------------------------------------------------------\u001b[0m",
      "\u001b[1;31mKeyError\u001b[0m                                  Traceback (most recent call last)",
      "\u001b[1;32m<ipython-input-21-04bcddb257d5>\u001b[0m in \u001b[0;36m<module>\u001b[1;34m()\u001b[0m\n\u001b[1;32m----> 1\u001b[1;33m \u001b[0msubprob\u001b[0m\u001b[1;33m(\u001b[0m\u001b[0mdual1\u001b[0m\u001b[1;33m,\u001b[0m \u001b[0mdual2\u001b[0m\u001b[1;33m,\u001b[0m \u001b[0mdual3\u001b[0m\u001b[1;33m)\u001b[0m\u001b[1;33m\u001b[0m\u001b[0m\n\u001b[0m",
      "\u001b[1;32m<ipython-input-16-16fa77bfeb6b>\u001b[0m in \u001b[0;36msubprob\u001b[1;34m(dual1, dual2, dual3)\u001b[0m\n\u001b[0;32m      6\u001b[0m         \u001b[0mflag\u001b[0m\u001b[1;33m=\u001b[0m\u001b[1;36m1\u001b[0m\u001b[1;33m\u001b[0m\u001b[0m\n\u001b[0;32m      7\u001b[0m         \u001b[1;32mwhile\u001b[0m \u001b[0mflag\u001b[0m\u001b[1;33m==\u001b[0m\u001b[1;36m1\u001b[0m\u001b[1;33m:\u001b[0m\u001b[1;33m\u001b[0m\u001b[0m\n\u001b[1;32m----> 8\u001b[1;33m             \u001b[0mflag\u001b[0m\u001b[1;33m=\u001b[0m\u001b[0madd_nex\u001b[0m\u001b[1;33m(\u001b[0m\u001b[0mPos_lof_c\u001b[0m\u001b[1;33m[\u001b[0m\u001b[0mi\u001b[0m\u001b[1;33m]\u001b[0m\u001b[1;33m,\u001b[0m \u001b[0mstartflights\u001b[0m\u001b[1;33m,\u001b[0m \u001b[0mnotam_obj_dict\u001b[0m\u001b[1;33m,\u001b[0m \u001b[0mdual1\u001b[0m\u001b[1;33m,\u001b[0m \u001b[0mdual2_\u001b[0m\u001b[1;33m,\u001b[0m\u001b[0mdual3\u001b[0m\u001b[1;33m,\u001b[0m \u001b[0mi\u001b[0m\u001b[1;33m)\u001b[0m\u001b[1;33m\u001b[0m\u001b[0m\n\u001b[0m\u001b[0;32m      9\u001b[0m             \u001b[0mPos_lof_c\u001b[0m\u001b[1;33m[\u001b[0m\u001b[0mi\u001b[0m\u001b[1;33m]\u001b[0m \u001b[1;33m=\u001b[0m \u001b[0mdomination\u001b[0m\u001b[1;33m(\u001b[0m\u001b[0mPos_lof_c\u001b[0m\u001b[1;33m[\u001b[0m\u001b[0mi\u001b[0m\u001b[1;33m]\u001b[0m\u001b[1;33m)\u001b[0m\u001b[1;33m\u001b[0m\u001b[0m\n\u001b[0;32m     10\u001b[0m \u001b[1;33m\u001b[0m\u001b[0m\n",
      "\u001b[1;32m<ipython-input-14-e085d47b29a4>\u001b[0m in \u001b[0;36madd_nex\u001b[1;34m(L, startflights, notam_obj_dict, dual1, dual2_, dual3, c)\u001b[0m\n\u001b[0;32m     61\u001b[0m                         \u001b[0mnext_L\u001b[0m\u001b[1;33m.\u001b[0m\u001b[0mappend\u001b[0m\u001b[1;33m(\u001b[0m\u001b[0mnew_l\u001b[0m\u001b[1;33m)\u001b[0m\u001b[1;33m\u001b[0m\u001b[0m\n\u001b[0;32m     62\u001b[0m                 \u001b[1;32melif\u001b[0m \u001b[0mf\u001b[0m\u001b[1;33m.\u001b[0m\u001b[0mdur\u001b[0m\u001b[1;33m+\u001b[0m\u001b[0mf\u001b[0m\u001b[1;33m.\u001b[0m\u001b[0mdep\u001b[0m\u001b[1;33m.\u001b[0m\u001b[0mhour\u001b[0m\u001b[1;33m*\u001b[0m\u001b[1;36m60\u001b[0m\u001b[1;33m+\u001b[0m\u001b[0mf\u001b[0m\u001b[1;33m.\u001b[0m\u001b[0mdep\u001b[0m\u001b[1;33m.\u001b[0m\u001b[0mminute\u001b[0m\u001b[1;33m<\u001b[0m\u001b[1;36m24\u001b[0m\u001b[1;33m*\u001b[0m\u001b[1;36m60\u001b[0m \u001b[1;32mand\u001b[0m \u001b[0ml\u001b[0m\u001b[1;33m.\u001b[0m\u001b[0mavail_time_end\u001b[0m\u001b[1;33m-\u001b[0m\u001b[1;33m(\u001b[0m\u001b[0mf\u001b[0m\u001b[1;33m.\u001b[0m\u001b[0mdep\u001b[0m\u001b[1;33m.\u001b[0m\u001b[0mhour\u001b[0m\u001b[1;33m*\u001b[0m\u001b[1;36m60\u001b[0m\u001b[1;33m+\u001b[0m\u001b[0mf\u001b[0m\u001b[1;33m.\u001b[0m\u001b[0mdep\u001b[0m\u001b[1;33m.\u001b[0m\u001b[0mminute\u001b[0m\u001b[1;33m)\u001b[0m\u001b[1;33m<=\u001b[0m\u001b[1;36m0\u001b[0m \u001b[1;32mand\u001b[0m \u001b[0ml\u001b[0m\u001b[1;33m.\u001b[0m\u001b[0mis_f\u001b[0m\u001b[1;33m(\u001b[0m\u001b[0mf\u001b[0m\u001b[1;33m)\u001b[0m\u001b[1;33m==\u001b[0m\u001b[1;36m0\u001b[0m \u001b[1;32mand\u001b[0m                \u001b[0mcompat\u001b[0m\u001b[1;33m[\u001b[0m\u001b[0mc\u001b[0m\u001b[1;33m]\u001b[0m\u001b[1;33m[\u001b[0m\u001b[0mf\u001b[0m\u001b[1;33m.\u001b[0m\u001b[0mdest\u001b[0m\u001b[1;33m]\u001b[0m\u001b[1;33m==\u001b[0m\u001b[1;36m1\u001b[0m\u001b[1;33m:\u001b[0m\u001b[1;33m\u001b[0m\u001b[0m\n\u001b[1;32m---> 63\u001b[1;33m                     \u001b[1;32mif\u001b[0m \u001b[0mcreate_next_l\u001b[0m\u001b[1;33m(\u001b[0m\u001b[0ml\u001b[0m \u001b[1;33m,\u001b[0m \u001b[0mf\u001b[0m\u001b[1;33m,\u001b[0m \u001b[0mnotam_obj_dict\u001b[0m\u001b[1;33m,\u001b[0m \u001b[1;36m2\u001b[0m\u001b[1;33m,\u001b[0m \u001b[0mdual1\u001b[0m\u001b[1;33m,\u001b[0m \u001b[0mdual2_\u001b[0m\u001b[1;33m,\u001b[0m\u001b[0mdual3\u001b[0m\u001b[1;33m)\u001b[0m\u001b[1;33m!=\u001b[0m\u001b[1;33m-\u001b[0m\u001b[1;36m1\u001b[0m\u001b[1;33m:\u001b[0m\u001b[1;33m\u001b[0m\u001b[0m\n\u001b[0m\u001b[0;32m     64\u001b[0m                         \u001b[0mflag_l\u001b[0m\u001b[1;33m=\u001b[0m\u001b[1;36m1\u001b[0m\u001b[1;33m\u001b[0m\u001b[0m\n\u001b[0;32m     65\u001b[0m                         \u001b[0mflag\u001b[0m\u001b[1;33m=\u001b[0m\u001b[1;36m1\u001b[0m\u001b[1;33m\u001b[0m\u001b[0m\n",
      "\u001b[1;32m<ipython-input-14-e085d47b29a4>\u001b[0m in \u001b[0;36mcreate_next_l\u001b[1;34m(l, f, notam_obj_dict, mode, dual1, dual2_, dual3)\u001b[0m\n\u001b[0;32m     39\u001b[0m     \u001b[1;32mif\u001b[0m \u001b[0mmax_time\u001b[0m\u001b[1;33m>\u001b[0m\u001b[1;36m24\u001b[0m\u001b[1;33m*\u001b[0m\u001b[1;36m60\u001b[0m\u001b[1;33m:\u001b[0m\u001b[1;33m\u001b[0m\u001b[0m\n\u001b[0;32m     40\u001b[0m         \u001b[1;32mreturn\u001b[0m \u001b[1;33m-\u001b[0m\u001b[1;36m1\u001b[0m\u001b[1;33m\u001b[0m\u001b[0m\n\u001b[1;32m---> 41\u001b[1;33m     \u001b[0mnew_l\u001b[0m\u001b[1;33m.\u001b[0m\u001b[0mcalc_red\u001b[0m\u001b[1;33m(\u001b[0m\u001b[0mdual1\u001b[0m\u001b[1;33m,\u001b[0m \u001b[0mdual2_\u001b[0m\u001b[1;33m,\u001b[0m \u001b[0mdual3\u001b[0m\u001b[1;33m)\u001b[0m\u001b[1;33m\u001b[0m\u001b[0m\n\u001b[0m\u001b[0;32m     42\u001b[0m     \u001b[1;32mreturn\u001b[0m \u001b[0mnew_l\u001b[0m\u001b[1;33m\u001b[0m\u001b[0m\n\u001b[0;32m     43\u001b[0m \u001b[1;33m\u001b[0m\u001b[0m\n",
      "\u001b[1;32m<ipython-input-11-3697751706e9>\u001b[0m in \u001b[0;36mcalc_red\u001b[1;34m(self, dual1, dual2_, dual3)\u001b[0m\n\u001b[0;32m     45\u001b[0m             \u001b[0mdual_sum\u001b[0m \u001b[1;33m=\u001b[0m \u001b[0mdual_sum\u001b[0m \u001b[1;33m+\u001b[0m \u001b[0mdual1\u001b[0m\u001b[1;33m[\u001b[0m\u001b[0mf\u001b[0m\u001b[1;33m.\u001b[0m\u001b[0mnum\u001b[0m\u001b[1;33m]\u001b[0m\u001b[1;33m\u001b[0m\u001b[0m\n\u001b[0;32m     46\u001b[0m         \u001b[0mdual_sum\u001b[0m \u001b[1;33m=\u001b[0m \u001b[0mdual_sum\u001b[0m \u001b[1;33m+\u001b[0m \u001b[0mdual2_\u001b[0m\u001b[1;33m\u001b[0m\u001b[0m\n\u001b[1;32m---> 47\u001b[1;33m         \u001b[0mdual_sum\u001b[0m \u001b[1;33m=\u001b[0m \u001b[0mdual_sum\u001b[0m \u001b[1;33m+\u001b[0m \u001b[0mdual3\u001b[0m\u001b[1;33m[\u001b[0m\u001b[0mself\u001b[0m\u001b[1;33m.\u001b[0m\u001b[0mport_end\u001b[0m\u001b[1;33m]\u001b[0m\u001b[1;33m\u001b[0m\u001b[0m\n\u001b[0m\u001b[0;32m     48\u001b[0m         \u001b[0mself\u001b[0m\u001b[1;33m.\u001b[0m\u001b[0mred_cost\u001b[0m \u001b[1;33m=\u001b[0m \u001b[0mself\u001b[0m\u001b[1;33m.\u001b[0m\u001b[0mcost\u001b[0m \u001b[1;33m-\u001b[0m \u001b[0mdual_sum\u001b[0m\u001b[1;33m\u001b[0m\u001b[0m\n\u001b[0;32m     49\u001b[0m         \u001b[1;32mreturn\u001b[0m \u001b[0mself\u001b[0m\u001b[1;33m.\u001b[0m\u001b[0mred_cost\u001b[0m\u001b[1;33m\u001b[0m\u001b[0m\n",
      "\u001b[1;31mKeyError\u001b[0m: 'DEL'"
     ]
    }
   ],
   "source": [
    "subprob(dual1, dual2, dual3)"
   ]
  },
  {
   "cell_type": "code",
   "execution_count": 22,
   "metadata": {},
   "outputs": [
    {
     "name": "stdout",
     "output_type": "stream",
     "text": [
      "This is flight number-21763, aircraft=VTAXN, Start-COK, End-MCT, Dep-02:35:00, arrival-06:05:00, flight duration=210 minutes\n",
      "This is flight number-21729, aircraft=VTAXN, Start-MCT, End-COK, Dep-07:20:00, arrival-11:00:00, flight duration=220 minutes\n",
      "This is flight number-21636, aircraft=VTAXN, Start-COK, End-AUH, Dep-11:50:00, arrival-15:50:00, flight duration=240 minutes\n",
      "This is flight number-21809, aircraft=VTAXN, Start-AUH, End-COK, Dep-16:50:00, arrival-20:55:00, flight duration=245 minutes\n"
     ]
    }
   ],
   "source": [
    "fls = [21763 , 21729,  21636  ,21809] \n",
    "for f in fls:\n",
    "    flight_obj_dict[f].display()"
   ]
  },
  {
   "cell_type": "code",
   "execution_count": 79,
   "metadata": {},
   "outputs": [
    {
     "name": "stdout",
     "output_type": "stream",
     "text": [
      "This is flight number-21809, aircraft=VTAXN, Start-AUH, End-COK, Dep-16:50:00, arrival-20:55:00, flight duration=245 minutes\n"
     ]
    }
   ],
   "source": [
    "flight_obj_dict[21809].display()"
   ]
  },
  {
   "cell_type": "code",
   "execution_count": 81,
   "metadata": {},
   "outputs": [
    {
     "name": "stdout",
     "output_type": "stream",
     "text": [
      "This is NOTAM number-1, airport-AUH, start-780, end-1020\n"
     ]
    }
   ],
   "source": [
    "notam_obj_dict['AUH'].display()"
   ]
  },
  {
   "cell_type": "code",
   "execution_count": 96,
   "metadata": {},
   "outputs": [
    {
     "name": "stdout",
     "output_type": "stream",
     "text": [
      "This is aicraft number-1, model type-VTAXN, start-90, start station-COK\n"
     ]
    }
   ],
   "source": [
    "start_obj_dict['VTAXN'].display()"
   ]
  },
  {
   "cell_type": "code",
   "execution_count": 90,
   "metadata": {},
   "outputs": [
    {
     "data": {
      "text/plain": [
       "dict_keys(['VTAXN', 'VTEXJ', 'VTAYA'])"
      ]
     },
     "execution_count": 90,
     "metadata": {},
     "output_type": "execute_result"
    }
   ],
   "source": [
    "start_obj_dict.keys()"
   ]
  },
  {
   "cell_type": "code",
   "execution_count": null,
   "metadata": {},
   "outputs": [],
   "source": []
  }
 ],
 "metadata": {
  "kernelspec": {
   "display_name": "Python 3",
   "language": "python",
   "name": "python3"
  },
  "language_info": {
   "codemirror_mode": {
    "name": "ipython",
    "version": 3
   },
   "file_extension": ".py",
   "mimetype": "text/x-python",
   "name": "python",
   "nbconvert_exporter": "python",
   "pygments_lexer": "ipython3",
   "version": "3.6.5"
  }
 },
 "nbformat": 4,
 "nbformat_minor": 2
}
